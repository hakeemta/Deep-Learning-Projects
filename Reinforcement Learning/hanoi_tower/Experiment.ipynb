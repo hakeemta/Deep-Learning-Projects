{
 "cells": [
  {
   "cell_type": "code",
   "execution_count": 1,
   "metadata": {},
   "outputs": [
    {
     "name": "stderr",
     "output_type": "stream",
     "text": [
      "2023-03-14 15:40:11.061798: I tensorflow/core/platform/cpu_feature_guard.cc:193] This TensorFlow binary is optimized with oneAPI Deep Neural Network Library (oneDNN) to use the following CPU instructions in performance-critical operations:  AVX2 AVX512F AVX512_VNNI FMA\n",
      "To enable them in other operations, rebuild TensorFlow with the appropriate compiler flags.\n",
      "2023-03-14 15:40:11.159620: I tensorflow/core/util/port.cc:104] oneDNN custom operations are on. You may see slightly different numerical results due to floating-point round-off errors from different computation orders. To turn them off, set the environment variable `TF_ENABLE_ONEDNN_OPTS=0`.\n",
      "2023-03-14 15:40:11.629369: W tensorflow/compiler/xla/stream_executor/platform/default/dso_loader.cc:64] Could not load dynamic library 'libnvinfer.so.7'; dlerror: libnvinfer.so.7: cannot open shared object file: No such file or directory; LD_LIBRARY_PATH: :/home/abdul/miniconda3/lib/\n",
      "2023-03-14 15:40:11.629425: W tensorflow/compiler/xla/stream_executor/platform/default/dso_loader.cc:64] Could not load dynamic library 'libnvinfer_plugin.so.7'; dlerror: libnvinfer_plugin.so.7: cannot open shared object file: No such file or directory; LD_LIBRARY_PATH: :/home/abdul/miniconda3/lib/\n",
      "2023-03-14 15:40:11.629430: W tensorflow/compiler/tf2tensorrt/utils/py_utils.cc:38] TF-TRT Warning: Cannot dlopen some TensorRT libraries. If you would like to use Nvidia GPU with TensorRT, please make sure the missing libraries mentioned above are installed properly.\n"
     ]
    }
   ],
   "source": [
    "import tensorflow as tf\n",
    "import ray\n",
    "from ray.tune.registry import register_env\n",
    "from ray.rllib.algorithms import dqn, ppo\n",
    "\n",
    "from env import *\n",
    "from model import *\n",
    "from action_distribution import *"
   ]
  },
  {
   "cell_type": "code",
   "execution_count": 2,
   "metadata": {},
   "outputs": [
    {
     "name": "stdout",
     "output_type": "stream",
     "text": [
      "WARNING:tensorflow:From /tmp/ipykernel_2555221/1290334419.py:4: is_gpu_available (from tensorflow.python.framework.test_util) is deprecated and will be removed in a future version.\n",
      "Instructions for updating:\n",
      "Use `tf.config.list_physical_devices('GPU')` instead.\n"
     ]
    },
    {
     "name": "stderr",
     "output_type": "stream",
     "text": [
      "2023-03-14 15:40:12.883044: I tensorflow/compiler/xla/stream_executor/cuda/cuda_gpu_executor.cc:981] successful NUMA node read from SysFS had negative value (-1), but there must be at least one NUMA node, so returning NUMA node zero\n",
      "2023-03-14 15:40:12.888388: I tensorflow/compiler/xla/stream_executor/cuda/cuda_gpu_executor.cc:981] successful NUMA node read from SysFS had negative value (-1), but there must be at least one NUMA node, so returning NUMA node zero\n",
      "2023-03-14 15:40:12.888613: I tensorflow/compiler/xla/stream_executor/cuda/cuda_gpu_executor.cc:981] successful NUMA node read from SysFS had negative value (-1), but there must be at least one NUMA node, so returning NUMA node zero\n",
      "2023-03-14 15:40:13.440369: I tensorflow/compiler/xla/stream_executor/cuda/cuda_gpu_executor.cc:981] successful NUMA node read from SysFS had negative value (-1), but there must be at least one NUMA node, so returning NUMA node zero\n",
      "2023-03-14 15:40:13.440510: I tensorflow/compiler/xla/stream_executor/cuda/cuda_gpu_executor.cc:981] successful NUMA node read from SysFS had negative value (-1), but there must be at least one NUMA node, so returning NUMA node zero\n",
      "2023-03-14 15:40:13.440592: I tensorflow/compiler/xla/stream_executor/cuda/cuda_gpu_executor.cc:981] successful NUMA node read from SysFS had negative value (-1), but there must be at least one NUMA node, so returning NUMA node zero\n",
      "2023-03-14 15:40:13.440667: I tensorflow/core/common_runtime/gpu/gpu_device.cc:1613] Created device /device:GPU:0 with 2724 MB memory:  -> device: 0, name: NVIDIA GeForce RTX 3060 Laptop GPU, pci bus id: 0000:01:00.0, compute capability: 8.6\n"
     ]
    },
    {
     "data": {
      "text/plain": [
       "True"
      ]
     },
     "execution_count": 2,
     "metadata": {},
     "output_type": "execute_result"
    }
   ],
   "source": [
    "%load_ext autoreload\n",
    "%autoreload 2\n",
    "\n",
    "tf.test.is_gpu_available()"
   ]
  },
  {
   "cell_type": "code",
   "execution_count": 3,
   "metadata": {},
   "outputs": [
    {
     "name": "stderr",
     "output_type": "stream",
     "text": [
      "2023-03-14 15:40:15,145\tINFO worker.py:1553 -- Started a local Ray instance.\n"
     ]
    },
    {
     "data": {
      "text/html": [
       "<div>\n",
       "    <div style=\"margin-left: 50px;display: flex;flex-direction: row;align-items: center\">\n",
       "        <h3 style=\"color: var(--jp-ui-font-color0)\">Ray</h3>\n",
       "        <svg version=\"1.1\" id=\"ray\" width=\"3em\" viewBox=\"0 0 144.5 144.6\" style=\"margin-left: 3em;margin-right: 3em\">\n",
       "            <g id=\"layer-1\">\n",
       "                <path fill=\"#00a2e9\" class=\"st0\" d=\"M97.3,77.2c-3.8-1.1-6.2,0.9-8.3,5.1c-3.5,6.8-9.9,9.9-17.4,9.6S58,88.1,54.8,81.2c-1.4-3-3-4-6.3-4.1\n",
       "                    c-5.6-0.1-9.9,0.1-13.1,6.4c-3.8,7.6-13.6,10.2-21.8,7.6C5.2,88.4-0.4,80.5,0,71.7c0.1-8.4,5.7-15.8,13.8-18.2\n",
       "                    c8.4-2.6,17.5,0.7,22.3,8c1.3,1.9,1.3,5.2,3.6,5.6c3.9,0.6,8,0.2,12,0.2c1.8,0,1.9-1.6,2.4-2.8c3.5-7.8,9.7-11.8,18-11.9\n",
       "                    c8.2-0.1,14.4,3.9,17.8,11.4c1.3,2.8,2.9,3.6,5.7,3.3c1-0.1,2,0.1,3,0c2.8-0.5,6.4,1.7,8.1-2.7s-2.3-5.5-4.1-7.5\n",
       "                    c-5.1-5.7-10.9-10.8-16.1-16.3C84,38,81.9,37.1,78,38.3C66.7,42,56.2,35.7,53,24.1C50.3,14,57.3,2.8,67.7,0.5\n",
       "                    C78.4-2,89,4.7,91.5,15.3c0.1,0.3,0.1,0.5,0.2,0.8c0.7,3.4,0.7,6.9-0.8,9.8c-1.7,3.2-0.8,5,1.5,7.2c6.7,6.5,13.3,13,19.8,19.7\n",
       "                    c1.8,1.8,3,2.1,5.5,1.2c9.1-3.4,17.9-0.6,23.4,7c4.8,6.9,4.6,16.1-0.4,22.9c-5.4,7.2-14.2,9.9-23.1,6.5c-2.3-0.9-3.5-0.6-5.1,1.1\n",
       "                    c-6.7,6.9-13.6,13.7-20.5,20.4c-1.8,1.8-2.5,3.2-1.4,5.9c3.5,8.7,0.3,18.6-7.7,23.6c-7.9,5-18.2,3.8-24.8-2.9\n",
       "                    c-6.4-6.4-7.4-16.2-2.5-24.3c4.9-7.8,14.5-11,23.1-7.8c3,1.1,4.7,0.5,6.9-1.7C91.7,98.4,98,92.3,104.2,86c1.6-1.6,4.1-2.7,2.6-6.2\n",
       "                    c-1.4-3.3-3.8-2.5-6.2-2.6C99.8,77.2,98.9,77.2,97.3,77.2z M72.1,29.7c5.5,0.1,9.9-4.3,10-9.8c0-0.1,0-0.2,0-0.3\n",
       "                    C81.8,14,77,9.8,71.5,10.2c-5,0.3-9,4.2-9.3,9.2c-0.2,5.5,4,10.1,9.5,10.3C71.8,29.7,72,29.7,72.1,29.7z M72.3,62.3\n",
       "                    c-5.4-0.1-9.9,4.2-10.1,9.7c0,0.2,0,0.3,0,0.5c0.2,5.4,4.5,9.7,9.9,10c5.1,0.1,9.9-4.7,10.1-9.8c0.2-5.5-4-10-9.5-10.3\n",
       "                    C72.6,62.3,72.4,62.3,72.3,62.3z M115,72.5c0.1,5.4,4.5,9.7,9.8,9.9c5.6-0.2,10-4.8,10-10.4c-0.2-5.4-4.6-9.7-10-9.7\n",
       "                    c-5.3-0.1-9.8,4.2-9.9,9.5C115,72.1,115,72.3,115,72.5z M19.5,62.3c-5.4,0.1-9.8,4.4-10,9.8c-0.1,5.1,5.2,10.4,10.2,10.3\n",
       "                    c5.6-0.2,10-4.9,9.8-10.5c-0.1-5.4-4.5-9.7-9.9-9.6C19.6,62.3,19.5,62.3,19.5,62.3z M71.8,134.6c5.9,0.2,10.3-3.9,10.4-9.6\n",
       "                    c0.5-5.5-3.6-10.4-9.1-10.8c-5.5-0.5-10.4,3.6-10.8,9.1c0,0.5,0,0.9,0,1.4c-0.2,5.3,4,9.8,9.3,10\n",
       "                    C71.6,134.6,71.7,134.6,71.8,134.6z\"/>\n",
       "            </g>\n",
       "        </svg>\n",
       "        <table>\n",
       "            <tr>\n",
       "                <td style=\"text-align: left\"><b>Python version:</b></td>\n",
       "                <td style=\"text-align: left\"><b>3.10.9</b></td>\n",
       "            </tr>\n",
       "            <tr>\n",
       "                <td style=\"text-align: left\"><b>Ray version:</b></td>\n",
       "                <td style=\"text-align: left\"><b> 2.3.0</b></td>\n",
       "            </tr>\n",
       "            \n",
       "        </table>\n",
       "    </div>\n",
       "</div>\n"
      ],
      "text/plain": [
       "RayContext(dashboard_url='', python_version='3.10.9', ray_version='2.3.0', ray_commit='cf7a56b4b0b648c324722df7c99c168e92ff0b45', address_info={'node_ip_address': '127.0.1.1', 'raylet_ip_address': '127.0.1.1', 'redis_address': None, 'object_store_address': '/tmp/ray/session_2023-03-14_15-40-13_575686_2555221/sockets/plasma_store', 'raylet_socket_name': '/tmp/ray/session_2023-03-14_15-40-13_575686_2555221/sockets/raylet', 'webui_url': '', 'session_dir': '/tmp/ray/session_2023-03-14_15-40-13_575686_2555221', 'metrics_export_port': 65462, 'gcs_address': '127.0.1.1:51477', 'address': '127.0.1.1:51477', 'dashboard_agent_listen_port': 52365, 'node_id': '31442f76a57e2a119a39ac2c8ecaedda2a1ee08cbc4427a23966b9ca'})"
      ]
     },
     "execution_count": 3,
     "metadata": {},
     "output_type": "execute_result"
    }
   ],
   "source": [
    "if ray.is_initialized():\n",
    "    ray.shutdown()\n",
    "ray.init()"
   ]
  },
  {
   "cell_type": "code",
   "execution_count": 4,
   "metadata": {},
   "outputs": [
    {
     "name": "stderr",
     "output_type": "stream",
     "text": [
      "2023-03-14 15:40:16,170\tINFO algorithm_config.py:2899 -- Your framework setting is 'tf', meaning you are using static-graph mode. Set framework='tf2' to enable eager execution with tf2.x. You may also then want to set eager_tracing=True in order to reach similar execution speed as with static-graph mode.\n",
      "2023-03-14 15:40:16,180\tINFO algorithm.py:506 -- Current log_level is WARN. For more information, set 'log_level': 'INFO' / 'DEBUG' or use the -v and -vv flags.\n",
      "\u001b[2m\u001b[36m(RolloutWorker pid=2558270)\u001b[0m 2023-03-14 15:40:19,769\tWARNING env.py:156 -- Your env doesn't have a .spec.max_episode_steps attribute. Your horizon will default to infinity, and your environment will not be reset.\n",
      "\u001b[2m\u001b[36m(RolloutWorker pid=2558270)\u001b[0m 2023-03-14 15:40:19,769\tWARNING env.py:166 -- Your env reset() method appears to take 'seed' or 'return_info' arguments. Note that these are not yet supported in RLlib. Seeding will take place using 'env.seed()' and the info dict will not be returned from reset.\n"
     ]
    },
    {
     "name": "stdout",
     "output_type": "stream",
     "text": [
      "\u001b[2m\u001b[36m(RolloutWorker pid=2558276)\u001b[0m Model: \"base_model\"\n",
      "\u001b[2m\u001b[36m(RolloutWorker pid=2558276)\u001b[0m __________________________________________________________________________________________________\n",
      "\u001b[2m\u001b[36m(RolloutWorker pid=2558276)\u001b[0m  Layer (type)                   Output Shape         Param #     Connected to                     \n",
      "\u001b[2m\u001b[36m(RolloutWorker pid=2558276)\u001b[0m ==================================================================================================\n",
      "\u001b[2m\u001b[36m(RolloutWorker pid=2558276)\u001b[0m  obs_input (InputLayer)         [(None, 3, 4)]       0           []                               \n",
      "\u001b[2m\u001b[36m(RolloutWorker pid=2558276)\u001b[0m                                                                                                   \n",
      "\u001b[2m\u001b[36m(RolloutWorker pid=2558276)\u001b[0m  flatten (Flatten)              (None, 12)           0           ['obs_input[0][0]']              \n",
      "\u001b[2m\u001b[36m(RolloutWorker pid=2558276)\u001b[0m                                                                                                   \n",
      "\u001b[2m\u001b[36m(RolloutWorker pid=2558276)\u001b[0m  context1 (Dense)               (None, 128)          1664        ['flatten[0][0]']                \n",
      "\u001b[2m\u001b[36m(RolloutWorker pid=2558276)\u001b[0m                                                                                                   \n",
      "\u001b[2m\u001b[36m(RolloutWorker pid=2558276)\u001b[0m  context1_v (Dense)             (None, 128)          1664        ['flatten[0][0]']                \n",
      "\u001b[2m\u001b[36m(RolloutWorker pid=2558276)\u001b[0m                                                                                                   \n",
      "\u001b[2m\u001b[36m(RolloutWorker pid=2558276)\u001b[0m  context2 (Dense)               (None, 128)          16512       ['context1[0][0]']               \n",
      "\u001b[2m\u001b[36m(RolloutWorker pid=2558276)\u001b[0m                                                                                                   \n",
      "\u001b[2m\u001b[36m(RolloutWorker pid=2558276)\u001b[0m  context2_v (Dense)             (None, 128)          16512       ['context1_v[0][0]']             \n",
      "\u001b[2m\u001b[36m(RolloutWorker pid=2558276)\u001b[0m                                                                                                   \n",
      "\u001b[2m\u001b[36m(RolloutWorker pid=2558276)\u001b[0m  logits (Dense)                 (None, 6)            774         ['context2[0][0]']               \n",
      "\u001b[2m\u001b[36m(RolloutWorker pid=2558276)\u001b[0m                                                                                                   \n",
      "\u001b[2m\u001b[36m(RolloutWorker pid=2558276)\u001b[0m  value_out (Dense)              (None, 1)            129         ['context2_v[0][0]']             \n",
      "\u001b[2m\u001b[36m(RolloutWorker pid=2558276)\u001b[0m                                                                                                   \n",
      "\u001b[2m\u001b[36m(RolloutWorker pid=2558276)\u001b[0m ==================================================================================================\n",
      "\u001b[2m\u001b[36m(RolloutWorker pid=2558276)\u001b[0m Total params: 37,255\n",
      "\u001b[2m\u001b[36m(RolloutWorker pid=2558276)\u001b[0m Trainable params: 37,255\n",
      "\u001b[2m\u001b[36m(RolloutWorker pid=2558276)\u001b[0m Non-trainable params: 0\n",
      "\u001b[2m\u001b[36m(RolloutWorker pid=2558276)\u001b[0m __________________________________________________________________________________________________\n",
      "\u001b[2m\u001b[36m(RolloutWorker pid=2558270)\u001b[0m Model: \"base_model\"\n",
      "\u001b[2m\u001b[36m(RolloutWorker pid=2558270)\u001b[0m __________________________________________________________________________________________________\n",
      "\u001b[2m\u001b[36m(RolloutWorker pid=2558270)\u001b[0m  Layer (type)                   Output Shape         Param #     Connected to                     \n",
      "\u001b[2m\u001b[36m(RolloutWorker pid=2558270)\u001b[0m ==================================================================================================\n",
      "\u001b[2m\u001b[36m(RolloutWorker pid=2558270)\u001b[0m  obs_input (InputLayer)         [(None, 3, 4)]       0           []                               \n",
      "\u001b[2m\u001b[36m(RolloutWorker pid=2558270)\u001b[0m                                                                                                   \n",
      "\u001b[2m\u001b[36m(RolloutWorker pid=2558270)\u001b[0m  flatten (Flatten)              (None, 12)           0           ['obs_input[0][0]']              \n",
      "\u001b[2m\u001b[36m(RolloutWorker pid=2558270)\u001b[0m                                                                                                   \n",
      "\u001b[2m\u001b[36m(RolloutWorker pid=2558270)\u001b[0m  context1 (Dense)               (None, 128)          1664        ['flatten[0][0]']                \n",
      "\u001b[2m\u001b[36m(RolloutWorker pid=2558270)\u001b[0m                                                                                                   \n",
      "\u001b[2m\u001b[36m(RolloutWorker pid=2558270)\u001b[0m  context1_v (Dense)             (None, 128)          1664        ['flatten[0][0]']                \n",
      "\u001b[2m\u001b[36m(RolloutWorker pid=2558270)\u001b[0m                                                                                                   \n",
      "\u001b[2m\u001b[36m(RolloutWorker pid=2558270)\u001b[0m  context2 (Dense)               (None, 128)          16512       ['context1[0][0]']               \n",
      "\u001b[2m\u001b[36m(RolloutWorker pid=2558270)\u001b[0m                                                                                                   \n",
      "\u001b[2m\u001b[36m(RolloutWorker pid=2558270)\u001b[0m  context2_v (Dense)             (None, 128)          16512       ['context1_v[0][0]']             \n",
      "\u001b[2m\u001b[36m(RolloutWorker pid=2558270)\u001b[0m                                                                                                   \n",
      "\u001b[2m\u001b[36m(RolloutWorker pid=2558270)\u001b[0m  logits (Dense)                 (None, 6)            774         ['context2[0][0]']               \n",
      "\u001b[2m\u001b[36m(RolloutWorker pid=2558270)\u001b[0m                                                                                                   \n",
      "\u001b[2m\u001b[36m(RolloutWorker pid=2558270)\u001b[0m  value_out (Dense)              (None, 1)            129         ['context2_v[0][0]']             \n",
      "\u001b[2m\u001b[36m(RolloutWorker pid=2558270)\u001b[0m                                                                                                   \n",
      "\u001b[2m\u001b[36m(RolloutWorker pid=2558270)\u001b[0m ==================================================================================================\n",
      "\u001b[2m\u001b[36m(RolloutWorker pid=2558270)\u001b[0m Total params: 37,255\n",
      "\u001b[2m\u001b[36m(RolloutWorker pid=2558270)\u001b[0m Trainable params: 37,255\n",
      "\u001b[2m\u001b[36m(RolloutWorker pid=2558270)\u001b[0m Non-trainable params: 0\n",
      "\u001b[2m\u001b[36m(RolloutWorker pid=2558270)\u001b[0m __________________________________________________________________________________________________\n",
      "\u001b[2m\u001b[36m(RolloutWorker pid=2558271)\u001b[0m Model: \"base_model\"\n",
      "\u001b[2m\u001b[36m(RolloutWorker pid=2558271)\u001b[0m __________________________________________________________________________________________________\n",
      "\u001b[2m\u001b[36m(RolloutWorker pid=2558271)\u001b[0m  Layer (type)                   Output Shape         Param #     Connected to                     \n",
      "\u001b[2m\u001b[36m(RolloutWorker pid=2558271)\u001b[0m ==================================================================================================\n",
      "\u001b[2m\u001b[36m(RolloutWorker pid=2558271)\u001b[0m  obs_input (InputLayer)         [(None, 3, 4)]       0           []                               \n",
      "\u001b[2m\u001b[36m(RolloutWorker pid=2558271)\u001b[0m                                                                                                   \n",
      "\u001b[2m\u001b[36m(RolloutWorker pid=2558271)\u001b[0m  flatten (Flatten)              (None, 12)           0           ['obs_input[0][0]']              \n",
      "\u001b[2m\u001b[36m(RolloutWorker pid=2558271)\u001b[0m                                                                                                   \n",
      "\u001b[2m\u001b[36m(RolloutWorker pid=2558271)\u001b[0m  context1 (Dense)               (None, 128)          1664        ['flatten[0][0]']                \n",
      "\u001b[2m\u001b[36m(RolloutWorker pid=2558271)\u001b[0m                                                                                                   \n",
      "\u001b[2m\u001b[36m(RolloutWorker pid=2558271)\u001b[0m  context1_v (Dense)             (None, 128)          1664        ['flatten[0][0]']                \n",
      "\u001b[2m\u001b[36m(RolloutWorker pid=2558271)\u001b[0m                                                                                                   \n",
      "\u001b[2m\u001b[36m(RolloutWorker pid=2558271)\u001b[0m  context2 (Dense)               (None, 128)          16512       ['context1[0][0]']               \n",
      "\u001b[2m\u001b[36m(RolloutWorker pid=2558271)\u001b[0m                                                                                                   \n",
      "\u001b[2m\u001b[36m(RolloutWorker pid=2558271)\u001b[0m  context2_v (Dense)             (None, 128)          16512       ['context1_v[0][0]']             \n",
      "\u001b[2m\u001b[36m(RolloutWorker pid=2558271)\u001b[0m                                                                                                   \n",
      "\u001b[2m\u001b[36m(RolloutWorker pid=2558271)\u001b[0m  logits (Dense)                 (None, 6)            774         ['context2[0][0]']               \n",
      "\u001b[2m\u001b[36m(RolloutWorker pid=2558271)\u001b[0m                                                                                                   \n",
      "\u001b[2m\u001b[36m(RolloutWorker pid=2558271)\u001b[0m  value_out (Dense)              (None, 1)            129         ['context2_v[0][0]']             \n",
      "\u001b[2m\u001b[36m(RolloutWorker pid=2558271)\u001b[0m                                                                                                   \n",
      "\u001b[2m\u001b[36m(RolloutWorker pid=2558271)\u001b[0m ==================================================================================================\n",
      "\u001b[2m\u001b[36m(RolloutWorker pid=2558271)\u001b[0m Total params: 37,255\n",
      "\u001b[2m\u001b[36m(RolloutWorker pid=2558271)\u001b[0m Trainable params: 37,255\n",
      "\u001b[2m\u001b[36m(RolloutWorker pid=2558271)\u001b[0m Non-trainable params: 0\n",
      "\u001b[2m\u001b[36m(RolloutWorker pid=2558271)\u001b[0m __________________________________________________________________________________________________\n",
      "\u001b[2m\u001b[36m(RolloutWorker pid=2558274)\u001b[0m Model: \"base_model\"\n",
      "\u001b[2m\u001b[36m(RolloutWorker pid=2558274)\u001b[0m __________________________________________________________________________________________________\n",
      "\u001b[2m\u001b[36m(RolloutWorker pid=2558274)\u001b[0m  Layer (type)                   Output Shape         Param #     Connected to                     \n",
      "\u001b[2m\u001b[36m(RolloutWorker pid=2558274)\u001b[0m ==================================================================================================\n",
      "\u001b[2m\u001b[36m(RolloutWorker pid=2558274)\u001b[0m  obs_input (InputLayer)         [(None, 3, 4)]       0           []                               \n",
      "\u001b[2m\u001b[36m(RolloutWorker pid=2558274)\u001b[0m                                                                                                   \n",
      "\u001b[2m\u001b[36m(RolloutWorker pid=2558274)\u001b[0m  flatten (Flatten)              (None, 12)           0           ['obs_input[0][0]']              \n",
      "\u001b[2m\u001b[36m(RolloutWorker pid=2558274)\u001b[0m                                                                                                   \n",
      "\u001b[2m\u001b[36m(RolloutWorker pid=2558274)\u001b[0m  context1 (Dense)               (None, 128)          1664        ['flatten[0][0]']                \n",
      "\u001b[2m\u001b[36m(RolloutWorker pid=2558274)\u001b[0m                                                                                                   \n",
      "\u001b[2m\u001b[36m(RolloutWorker pid=2558274)\u001b[0m  context1_v (Dense)             (None, 128)          1664        ['flatten[0][0]']                \n",
      "\u001b[2m\u001b[36m(RolloutWorker pid=2558274)\u001b[0m                                                                                                   \n",
      "\u001b[2m\u001b[36m(RolloutWorker pid=2558274)\u001b[0m  context2 (Dense)               (None, 128)          16512       ['context1[0][0]']               \n",
      "\u001b[2m\u001b[36m(RolloutWorker pid=2558274)\u001b[0m                                                                                                   \n",
      "\u001b[2m\u001b[36m(RolloutWorker pid=2558274)\u001b[0m  context2_v (Dense)             (None, 128)          16512       ['context1_v[0][0]']             \n",
      "\u001b[2m\u001b[36m(RolloutWorker pid=2558274)\u001b[0m                                                                                                   \n",
      "\u001b[2m\u001b[36m(RolloutWorker pid=2558274)\u001b[0m  logits (Dense)                 (None, 6)            774         ['context2[0][0]']               \n",
      "\u001b[2m\u001b[36m(RolloutWorker pid=2558274)\u001b[0m                                                                                                   \n",
      "\u001b[2m\u001b[36m(RolloutWorker pid=2558274)\u001b[0m  value_out (Dense)              (None, 1)            129         ['context2_v[0][0]']             \n",
      "\u001b[2m\u001b[36m(RolloutWorker pid=2558274)\u001b[0m                                                                                                   \n",
      "\u001b[2m\u001b[36m(RolloutWorker pid=2558274)\u001b[0m ==================================================================================================\n",
      "\u001b[2m\u001b[36m(RolloutWorker pid=2558274)\u001b[0m Total params: 37,255\n",
      "\u001b[2m\u001b[36m(RolloutWorker pid=2558274)\u001b[0m Trainable params: 37,255\n",
      "\u001b[2m\u001b[36m(RolloutWorker pid=2558274)\u001b[0m Non-trainable params: 0\n",
      "\u001b[2m\u001b[36m(RolloutWorker pid=2558274)\u001b[0m __________________________________________________________________________________________________\n",
      "\u001b[2m\u001b[36m(RolloutWorker pid=2558275)\u001b[0m Model: \"base_model\"\n",
      "\u001b[2m\u001b[36m(RolloutWorker pid=2558275)\u001b[0m __________________________________________________________________________________________________\n",
      "\u001b[2m\u001b[36m(RolloutWorker pid=2558275)\u001b[0m  Layer (type)                   Output Shape         Param #     Connected to                     \n",
      "\u001b[2m\u001b[36m(RolloutWorker pid=2558275)\u001b[0m ==================================================================================================\n",
      "\u001b[2m\u001b[36m(RolloutWorker pid=2558275)\u001b[0m  obs_input (InputLayer)         [(None, 3, 4)]       0           []                               \n",
      "\u001b[2m\u001b[36m(RolloutWorker pid=2558275)\u001b[0m                                                                                                   \n",
      "\u001b[2m\u001b[36m(RolloutWorker pid=2558275)\u001b[0m  flatten (Flatten)              (None, 12)           0           ['obs_input[0][0]']              \n",
      "\u001b[2m\u001b[36m(RolloutWorker pid=2558275)\u001b[0m                                                                                                   \n",
      "\u001b[2m\u001b[36m(RolloutWorker pid=2558275)\u001b[0m  context1 (Dense)               (None, 128)          1664        ['flatten[0][0]']                \n",
      "\u001b[2m\u001b[36m(RolloutWorker pid=2558275)\u001b[0m                                                                                                   \n",
      "\u001b[2m\u001b[36m(RolloutWorker pid=2558275)\u001b[0m  context1_v (Dense)             (None, 128)          1664        ['flatten[0][0]']                \n",
      "\u001b[2m\u001b[36m(RolloutWorker pid=2558275)\u001b[0m                                                                                                   \n",
      "\u001b[2m\u001b[36m(RolloutWorker pid=2558275)\u001b[0m  context2 (Dense)               (None, 128)          16512       ['context1[0][0]']               \n",
      "\u001b[2m\u001b[36m(RolloutWorker pid=2558275)\u001b[0m                                                                                                   \n",
      "\u001b[2m\u001b[36m(RolloutWorker pid=2558275)\u001b[0m  context2_v (Dense)             (None, 128)          16512       ['context1_v[0][0]']             \n",
      "\u001b[2m\u001b[36m(RolloutWorker pid=2558275)\u001b[0m                                                                                                   \n",
      "\u001b[2m\u001b[36m(RolloutWorker pid=2558275)\u001b[0m  logits (Dense)                 (None, 6)            774         ['context2[0][0]']               \n",
      "\u001b[2m\u001b[36m(RolloutWorker pid=2558275)\u001b[0m                                                                                                   \n",
      "\u001b[2m\u001b[36m(RolloutWorker pid=2558275)\u001b[0m  value_out (Dense)              (None, 1)            129         ['context2_v[0][0]']             \n",
      "\u001b[2m\u001b[36m(RolloutWorker pid=2558275)\u001b[0m                                                                                                   \n",
      "\u001b[2m\u001b[36m(RolloutWorker pid=2558275)\u001b[0m ==================================================================================================\n",
      "\u001b[2m\u001b[36m(RolloutWorker pid=2558275)\u001b[0m Total params: 37,255\n",
      "\u001b[2m\u001b[36m(RolloutWorker pid=2558275)\u001b[0m Trainable params: 37,255\n",
      "\u001b[2m\u001b[36m(RolloutWorker pid=2558275)\u001b[0m Non-trainable params: 0\n",
      "\u001b[2m\u001b[36m(RolloutWorker pid=2558275)\u001b[0m __________________________________________________________________________________________________\n",
      "\u001b[2m\u001b[36m(RolloutWorker pid=2558273)\u001b[0m Model: \"base_model\"\n",
      "\u001b[2m\u001b[36m(RolloutWorker pid=2558273)\u001b[0m __________________________________________________________________________________________________\n",
      "\u001b[2m\u001b[36m(RolloutWorker pid=2558273)\u001b[0m  Layer (type)                   Output Shape         Param #     Connected to                     \n",
      "\u001b[2m\u001b[36m(RolloutWorker pid=2558273)\u001b[0m ==================================================================================================\n",
      "\u001b[2m\u001b[36m(RolloutWorker pid=2558273)\u001b[0m  obs_input (InputLayer)         [(None, 3, 4)]       0           []                               \n",
      "\u001b[2m\u001b[36m(RolloutWorker pid=2558273)\u001b[0m                                                                                                   \n",
      "\u001b[2m\u001b[36m(RolloutWorker pid=2558273)\u001b[0m  flatten (Flatten)              (None, 12)           0           ['obs_input[0][0]']              \n",
      "\u001b[2m\u001b[36m(RolloutWorker pid=2558273)\u001b[0m                                                                                                   \n",
      "\u001b[2m\u001b[36m(RolloutWorker pid=2558273)\u001b[0m  context1 (Dense)               (None, 128)          1664        ['flatten[0][0]']                \n",
      "\u001b[2m\u001b[36m(RolloutWorker pid=2558273)\u001b[0m                                                                                                   \n",
      "\u001b[2m\u001b[36m(RolloutWorker pid=2558273)\u001b[0m  context1_v (Dense)             (None, 128)          1664        ['flatten[0][0]']                \n",
      "\u001b[2m\u001b[36m(RolloutWorker pid=2558273)\u001b[0m                                                                                                   \n",
      "\u001b[2m\u001b[36m(RolloutWorker pid=2558273)\u001b[0m  context2 (Dense)               (None, 128)          16512       ['context1[0][0]']               \n",
      "\u001b[2m\u001b[36m(RolloutWorker pid=2558273)\u001b[0m                                                                                                   \n",
      "\u001b[2m\u001b[36m(RolloutWorker pid=2558273)\u001b[0m  context2_v (Dense)             (None, 128)          16512       ['context1_v[0][0]']             \n",
      "\u001b[2m\u001b[36m(RolloutWorker pid=2558273)\u001b[0m                                                                                                   \n",
      "\u001b[2m\u001b[36m(RolloutWorker pid=2558273)\u001b[0m  logits (Dense)                 (None, 6)            774         ['context2[0][0]']               \n",
      "\u001b[2m\u001b[36m(RolloutWorker pid=2558273)\u001b[0m                                                                                                   \n",
      "\u001b[2m\u001b[36m(RolloutWorker pid=2558273)\u001b[0m  value_out (Dense)              (None, 1)            129         ['context2_v[0][0]']             \n",
      "\u001b[2m\u001b[36m(RolloutWorker pid=2558273)\u001b[0m                                                                                                   \n",
      "\u001b[2m\u001b[36m(RolloutWorker pid=2558273)\u001b[0m ==================================================================================================\n",
      "\u001b[2m\u001b[36m(RolloutWorker pid=2558273)\u001b[0m Total params: 37,255\n",
      "\u001b[2m\u001b[36m(RolloutWorker pid=2558273)\u001b[0m Trainable params: 37,255\n",
      "\u001b[2m\u001b[36m(RolloutWorker pid=2558273)\u001b[0m Non-trainable params: 0\n",
      "\u001b[2m\u001b[36m(RolloutWorker pid=2558273)\u001b[0m __________________________________________________________________________________________________\n",
      "\u001b[2m\u001b[36m(RolloutWorker pid=2558272)\u001b[0m Model: \"base_model\"\n",
      "\u001b[2m\u001b[36m(RolloutWorker pid=2558272)\u001b[0m __________________________________________________________________________________________________\n",
      "\u001b[2m\u001b[36m(RolloutWorker pid=2558272)\u001b[0m  Layer (type)                   Output Shape         Param #     Connected to                     \n",
      "\u001b[2m\u001b[36m(RolloutWorker pid=2558272)\u001b[0m ==================================================================================================\n",
      "\u001b[2m\u001b[36m(RolloutWorker pid=2558272)\u001b[0m  obs_input (InputLayer)         [(None, 3, 4)]       0           []                               \n",
      "\u001b[2m\u001b[36m(RolloutWorker pid=2558272)\u001b[0m                                                                                                   \n",
      "\u001b[2m\u001b[36m(RolloutWorker pid=2558272)\u001b[0m  flatten (Flatten)              (None, 12)           0           ['obs_input[0][0]']              \n",
      "\u001b[2m\u001b[36m(RolloutWorker pid=2558272)\u001b[0m                                                                                                   \n",
      "\u001b[2m\u001b[36m(RolloutWorker pid=2558272)\u001b[0m  context1 (Dense)               (None, 128)          1664        ['flatten[0][0]']                \n",
      "\u001b[2m\u001b[36m(RolloutWorker pid=2558272)\u001b[0m                                                                                                   \n",
      "\u001b[2m\u001b[36m(RolloutWorker pid=2558272)\u001b[0m  context1_v (Dense)             (None, 128)          1664        ['flatten[0][0]']                \n",
      "\u001b[2m\u001b[36m(RolloutWorker pid=2558272)\u001b[0m                                                                                                   \n",
      "\u001b[2m\u001b[36m(RolloutWorker pid=2558272)\u001b[0m  context2 (Dense)               (None, 128)          16512       ['context1[0][0]']               \n",
      "\u001b[2m\u001b[36m(RolloutWorker pid=2558272)\u001b[0m                                                                                                   \n",
      "\u001b[2m\u001b[36m(RolloutWorker pid=2558272)\u001b[0m  context2_v (Dense)             (None, 128)          16512       ['context1_v[0][0]']             \n",
      "\u001b[2m\u001b[36m(RolloutWorker pid=2558272)\u001b[0m                                                                                                   \n",
      "\u001b[2m\u001b[36m(RolloutWorker pid=2558272)\u001b[0m  logits (Dense)                 (None, 6)            774         ['context2[0][0]']               \n",
      "\u001b[2m\u001b[36m(RolloutWorker pid=2558272)\u001b[0m                                                                                                   \n",
      "\u001b[2m\u001b[36m(RolloutWorker pid=2558272)\u001b[0m  value_out (Dense)              (None, 1)            129         ['context2_v[0][0]']             \n",
      "\u001b[2m\u001b[36m(RolloutWorker pid=2558272)\u001b[0m                                                                                                   \n",
      "\u001b[2m\u001b[36m(RolloutWorker pid=2558272)\u001b[0m ==================================================================================================\n",
      "\u001b[2m\u001b[36m(RolloutWorker pid=2558272)\u001b[0m Total params: 37,255\n",
      "\u001b[2m\u001b[36m(RolloutWorker pid=2558272)\u001b[0m Trainable params: 37,255\n",
      "\u001b[2m\u001b[36m(RolloutWorker pid=2558272)\u001b[0m Non-trainable params: 0\n",
      "\u001b[2m\u001b[36m(RolloutWorker pid=2558272)\u001b[0m __________________________________________________________________________________________________\n",
      "\u001b[2m\u001b[36m(RolloutWorker pid=2558279)\u001b[0m Model: \"base_model\"\n",
      "\u001b[2m\u001b[36m(RolloutWorker pid=2558279)\u001b[0m __________________________________________________________________________________________________\n",
      "\u001b[2m\u001b[36m(RolloutWorker pid=2558279)\u001b[0m  Layer (type)                   Output Shape         Param #     Connected to                     \n",
      "\u001b[2m\u001b[36m(RolloutWorker pid=2558279)\u001b[0m ==================================================================================================\n",
      "\u001b[2m\u001b[36m(RolloutWorker pid=2558279)\u001b[0m  obs_input (InputLayer)         [(None, 3, 4)]       0           []                               \n",
      "\u001b[2m\u001b[36m(RolloutWorker pid=2558279)\u001b[0m                                                                                                   \n",
      "\u001b[2m\u001b[36m(RolloutWorker pid=2558279)\u001b[0m  flatten (Flatten)              (None, 12)           0           ['obs_input[0][0]']              \n",
      "\u001b[2m\u001b[36m(RolloutWorker pid=2558279)\u001b[0m                                                                                                   \n",
      "\u001b[2m\u001b[36m(RolloutWorker pid=2558279)\u001b[0m  context1 (Dense)               (None, 128)          1664        ['flatten[0][0]']                \n",
      "\u001b[2m\u001b[36m(RolloutWorker pid=2558279)\u001b[0m                                                                                                   \n",
      "\u001b[2m\u001b[36m(RolloutWorker pid=2558279)\u001b[0m  context1_v (Dense)             (None, 128)          1664        ['flatten[0][0]']                \n",
      "\u001b[2m\u001b[36m(RolloutWorker pid=2558279)\u001b[0m                                                                                                   \n",
      "\u001b[2m\u001b[36m(RolloutWorker pid=2558279)\u001b[0m  context2 (Dense)               (None, 128)          16512       ['context1[0][0]']               \n",
      "\u001b[2m\u001b[36m(RolloutWorker pid=2558279)\u001b[0m                                                                                                   \n",
      "\u001b[2m\u001b[36m(RolloutWorker pid=2558279)\u001b[0m  context2_v (Dense)             (None, 128)          16512       ['context1_v[0][0]']             \n",
      "\u001b[2m\u001b[36m(RolloutWorker pid=2558279)\u001b[0m                                                                                                   \n",
      "\u001b[2m\u001b[36m(RolloutWorker pid=2558279)\u001b[0m  logits (Dense)                 (None, 6)            774         ['context2[0][0]']               \n",
      "\u001b[2m\u001b[36m(RolloutWorker pid=2558279)\u001b[0m                                                                                                   \n",
      "\u001b[2m\u001b[36m(RolloutWorker pid=2558279)\u001b[0m  value_out (Dense)              (None, 1)            129         ['context2_v[0][0]']             \n",
      "\u001b[2m\u001b[36m(RolloutWorker pid=2558279)\u001b[0m                                                                                                   \n",
      "\u001b[2m\u001b[36m(RolloutWorker pid=2558279)\u001b[0m ==================================================================================================\n",
      "\u001b[2m\u001b[36m(RolloutWorker pid=2558279)\u001b[0m Total params: 37,255\n",
      "\u001b[2m\u001b[36m(RolloutWorker pid=2558279)\u001b[0m Trainable params: 37,255\n",
      "\u001b[2m\u001b[36m(RolloutWorker pid=2558279)\u001b[0m Non-trainable params: 0\n",
      "\u001b[2m\u001b[36m(RolloutWorker pid=2558279)\u001b[0m __________________________________________________________________________________________________\n",
      "Model: \"base_model\"\n",
      "__________________________________________________________________________________________________\n",
      " Layer (type)                   Output Shape         Param #     Connected to                     \n",
      "==================================================================================================\n",
      " obs_input (InputLayer)         [(None, 3, 4)]       0           []                               \n",
      "                                                                                                  \n",
      " flatten (Flatten)              (None, 12)           0           ['obs_input[0][0]']              \n",
      "                                                                                                  \n",
      " context1 (Dense)               (None, 128)          1664        ['flatten[0][0]']                \n",
      "                                                                                                  \n",
      " context1_v (Dense)             (None, 128)          1664        ['flatten[0][0]']                \n",
      "                                                                                                  \n",
      " context2 (Dense)               (None, 128)          16512       ['context1[0][0]']               \n",
      "                                                                                                  \n",
      " context2_v (Dense)             (None, 128)          16512       ['context1_v[0][0]']             \n",
      "                                                                                                  \n",
      " logits (Dense)                 (None, 6)            774         ['context2[0][0]']               \n",
      "                                                                                                  \n",
      " value_out (Dense)              (None, 1)            129         ['context2_v[0][0]']             \n",
      "                                                                                                  \n",
      "==================================================================================================\n",
      "Total params: 37,255\n",
      "Trainable params: 37,255\n",
      "Non-trainable params: 0\n",
      "__________________________________________________________________________________________________\n"
     ]
    },
    {
     "name": "stderr",
     "output_type": "stream",
     "text": [
      "2023-03-14 15:40:21.943957: I tensorflow/compiler/xla/stream_executor/cuda/cuda_gpu_executor.cc:981] successful NUMA node read from SysFS had negative value (-1), but there must be at least one NUMA node, so returning NUMA node zero\n",
      "2023-03-14 15:40:21.944139: I tensorflow/compiler/xla/stream_executor/cuda/cuda_gpu_executor.cc:981] successful NUMA node read from SysFS had negative value (-1), but there must be at least one NUMA node, so returning NUMA node zero\n",
      "2023-03-14 15:40:21.944216: I tensorflow/compiler/xla/stream_executor/cuda/cuda_gpu_executor.cc:981] successful NUMA node read from SysFS had negative value (-1), but there must be at least one NUMA node, so returning NUMA node zero\n",
      "2023-03-14 15:40:21.945323: I tensorflow/compiler/xla/stream_executor/cuda/cuda_gpu_executor.cc:981] successful NUMA node read from SysFS had negative value (-1), but there must be at least one NUMA node, so returning NUMA node zero\n",
      "2023-03-14 15:40:21.945436: I tensorflow/compiler/xla/stream_executor/cuda/cuda_gpu_executor.cc:981] successful NUMA node read from SysFS had negative value (-1), but there must be at least one NUMA node, so returning NUMA node zero\n",
      "2023-03-14 15:40:21.945511: I tensorflow/compiler/xla/stream_executor/cuda/cuda_gpu_executor.cc:981] successful NUMA node read from SysFS had negative value (-1), but there must be at least one NUMA node, so returning NUMA node zero\n",
      "2023-03-14 15:40:21.945628: I tensorflow/compiler/xla/stream_executor/cuda/cuda_gpu_executor.cc:981] successful NUMA node read from SysFS had negative value (-1), but there must be at least one NUMA node, so returning NUMA node zero\n",
      "2023-03-14 15:40:21.945706: I tensorflow/compiler/xla/stream_executor/cuda/cuda_gpu_executor.cc:981] successful NUMA node read from SysFS had negative value (-1), but there must be at least one NUMA node, so returning NUMA node zero\n",
      "2023-03-14 15:40:21.945770: I tensorflow/core/common_runtime/gpu/gpu_device.cc:1613] Created device /job:localhost/replica:0/task:0/device:GPU:0 with 2724 MB memory:  -> device: 0, name: NVIDIA GeForce RTX 3060 Laptop GPU, pci bus id: 0000:01:00.0, compute capability: 8.6\n",
      "2023-03-14 15:40:22.713345: I tensorflow/compiler/xla/stream_executor/cuda/cuda_blas.cc:630] TensorFloat-32 will be used for the matrix multiplication. This will only be logged once.\n",
      "2023-03-14 15:40:23.306149: W tensorflow/core/common_runtime/colocation_graph.cc:1214] Failed to place the graph without changing the devices of some resources. Some of the operations (that had to be colocated with resource generating operations) are not supported on the resources' devices. Current candidate devices are [\n",
      "  /job:localhost/replica:0/task:0/device:CPU:0].\n",
      "See below for details of this colocation group:\n",
      "Colocation Debug Info:\n",
      "Colocation group had the following types and supported devices: \n",
      "Root Member(assigned_device_name_index_=-1 requested_device_name_='/device:GPU:0' assigned_device_name_='' resource_device_name_='/device:GPU:0' supported_device_types_=[CPU] possible_devices_=[]\n",
      "AssignVariableOp: GPU CPU \n",
      "ReadVariableOp: GPU CPU \n",
      "VarIsInitializedOp: GPU CPU \n",
      "VarHandleOp: CPU \n",
      "\n",
      "Colocation members, user-requested devices, and framework assigned devices, if any:\n",
      "  default_policy/tower_0/Variable_4 (VarHandleOp) /device:GPU:0\n",
      "  default_policy/tower_0/Variable_4/IsInitialized/VarIsInitializedOp (VarIsInitializedOp) /device:GPU:0\n",
      "  default_policy/tower_0/Variable_4/Assign (AssignVariableOp) /device:GPU:0\n",
      "  default_policy/tower_0/Variable_4/Read/ReadVariableOp (ReadVariableOp) /device:GPU:0\n",
      "  default_policy/tower_0/Slice_4/ReadVariableOp (ReadVariableOp) \n",
      "\n",
      "2023-03-14 15:40:24,230\tWARNING util.py:67 -- Install gputil for GPU system monitoring.\n"
     ]
    }
   ],
   "source": [
    "n_disks = 4\n",
    "env_config = {\n",
    "    'n_disks': n_disks,\n",
    "    'max_n_steps': 10000 #2 ** (n_disks + 2)\n",
    "}\n",
    "\n",
    "ENV_NAME = 'hanoi_tower'\n",
    "register_env(ENV_NAME, create_env)\n",
    "\n",
    "config = ppo.PPOConfig()\n",
    "config = config.training(lr=1e-3,\n",
    "                         gamma=0.9,\n",
    "                        #  vf_loss_coeff=0.5,\n",
    "                         train_batch_size=512 * 2,\n",
    "                         sgd_minibatch_size=256 * 1,\n",
    "                         num_sgd_iter=16 * 1)\n",
    "config = config.rollouts(num_rollout_workers=8,\n",
    "                         num_envs_per_worker=1)\n",
    "config = config.environment(ENV_NAME, \n",
    "                            env_config=env_config)\n",
    "config = config.resources(num_gpus=1)\n",
    "config = config.framework('tf')\n",
    "\n",
    "model_config = {\n",
    "    'n_hiddens': 128\n",
    "}\n",
    "\n",
    "config.model.update({\n",
    "    'custom_model': MODEL_NAME,\n",
    "    'custom_model_config': model_config,\n",
    "    'custom_action_dist': ACTION_DIST_NAME,\n",
    "    'vf_share_layers': True\n",
    "})\n",
    "\n",
    "config.seed = 19\n",
    "agent = config.build()"
   ]
  },
  {
   "cell_type": "code",
   "execution_count": 5,
   "metadata": {},
   "outputs": [
    {
     "data": {
      "text/plain": [
       "{'extra_python_environs_for_driver': {},\n",
       " 'extra_python_environs_for_worker': {},\n",
       " 'num_gpus': 1,\n",
       " 'num_cpus_per_worker': 1,\n",
       " 'num_gpus_per_worker': 0,\n",
       " '_fake_gpus': False,\n",
       " 'num_trainer_workers': 0,\n",
       " 'num_gpus_per_trainer_worker': 0,\n",
       " 'num_cpus_per_trainer_worker': 1,\n",
       " 'custom_resources_per_worker': {},\n",
       " 'placement_strategy': 'PACK',\n",
       " 'eager_tracing': False,\n",
       " 'eager_max_retraces': 20,\n",
       " 'tf_session_args': {'intra_op_parallelism_threads': 2,\n",
       "  'inter_op_parallelism_threads': 2,\n",
       "  'gpu_options': {'allow_growth': True},\n",
       "  'log_device_placement': False,\n",
       "  'device_count': {'CPU': 1},\n",
       "  'allow_soft_placement': True},\n",
       " 'local_tf_session_args': {'intra_op_parallelism_threads': 8,\n",
       "  'inter_op_parallelism_threads': 8},\n",
       " 'env': 'hanoi_tower',\n",
       " 'env_config': {'n_disks': 4, 'max_n_steps': 10000},\n",
       " 'observation_space': None,\n",
       " 'action_space': None,\n",
       " 'env_task_fn': None,\n",
       " 'render_env': False,\n",
       " 'clip_rewards': None,\n",
       " 'normalize_actions': True,\n",
       " 'clip_actions': False,\n",
       " 'disable_env_checking': False,\n",
       " 'is_atari': None,\n",
       " 'auto_wrap_old_gym_envs': True,\n",
       " 'num_envs_per_worker': 1,\n",
       " 'sample_collector': ray.rllib.evaluation.collectors.simple_list_collector.SimpleListCollector,\n",
       " 'sample_async': False,\n",
       " 'enable_connectors': True,\n",
       " 'rollout_fragment_length': 'auto',\n",
       " 'batch_mode': 'truncate_episodes',\n",
       " 'remote_worker_envs': False,\n",
       " 'remote_env_batch_wait_ms': 0,\n",
       " 'validate_workers_after_construction': True,\n",
       " 'ignore_worker_failures': False,\n",
       " 'recreate_failed_workers': False,\n",
       " 'restart_failed_sub_environments': False,\n",
       " 'num_consecutive_worker_failures_tolerance': 100,\n",
       " 'preprocessor_pref': 'deepmind',\n",
       " 'observation_filter': 'NoFilter',\n",
       " 'synchronize_filters': True,\n",
       " 'compress_observations': False,\n",
       " 'enable_tf1_exec_eagerly': False,\n",
       " 'sampler_perf_stats_ema_coef': None,\n",
       " 'worker_health_probe_timeout_s': 60,\n",
       " 'worker_restore_timeout_s': 1800,\n",
       " 'gamma': 0.9,\n",
       " 'lr': 0.001,\n",
       " 'train_batch_size': 1024,\n",
       " 'model': {'_disable_preprocessor_api': False,\n",
       "  '_disable_action_flattening': False,\n",
       "  'fcnet_hiddens': [256, 256],\n",
       "  'fcnet_activation': 'tanh',\n",
       "  'conv_filters': None,\n",
       "  'conv_activation': 'relu',\n",
       "  'post_fcnet_hiddens': [],\n",
       "  'post_fcnet_activation': 'relu',\n",
       "  'free_log_std': False,\n",
       "  'no_final_linear': False,\n",
       "  'vf_share_layers': True,\n",
       "  'use_lstm': False,\n",
       "  'max_seq_len': 20,\n",
       "  'lstm_cell_size': 256,\n",
       "  'lstm_use_prev_action': False,\n",
       "  'lstm_use_prev_reward': False,\n",
       "  '_time_major': False,\n",
       "  'use_attention': False,\n",
       "  'attention_num_transformer_units': 1,\n",
       "  'attention_dim': 64,\n",
       "  'attention_num_heads': 1,\n",
       "  'attention_head_dim': 32,\n",
       "  'attention_memory_inference': 50,\n",
       "  'attention_memory_training': 50,\n",
       "  'attention_position_wise_mlp_dim': 32,\n",
       "  'attention_init_gru_gate_bias': 2.0,\n",
       "  'attention_use_n_prev_actions': 0,\n",
       "  'attention_use_n_prev_rewards': 0,\n",
       "  'framestack': True,\n",
       "  'dim': 84,\n",
       "  'grayscale': False,\n",
       "  'zero_mean': True,\n",
       "  'custom_model': 'autoreg_model',\n",
       "  'custom_model_config': {'n_hiddens': 128},\n",
       "  'custom_action_dist': 'autoreg_dist',\n",
       "  'custom_preprocessor': None,\n",
       "  'lstm_use_prev_action_reward': -1,\n",
       "  '_use_default_native_models': -1},\n",
       " 'optimizer': {},\n",
       " 'max_requests_in_flight_per_sampler_worker': 2,\n",
       " 'rl_trainer_class': None,\n",
       " '_enable_rl_trainer_api': False,\n",
       " '_rl_trainer_hps': RLTrainerHPs(),\n",
       " 'explore': True,\n",
       " 'exploration_config': {'type': 'StochasticSampling'},\n",
       " 'policies': {'default_policy': <ray.rllib.policy.policy.PolicySpec at 0x7fe37870eb30>},\n",
       " 'policy_states_are_swappable': False,\n",
       " 'input_config': {},\n",
       " 'actions_in_input_normalized': False,\n",
       " 'postprocess_inputs': False,\n",
       " 'shuffle_buffer_size': 0,\n",
       " 'output': None,\n",
       " 'output_config': {},\n",
       " 'output_compress_columns': ['obs', 'new_obs'],\n",
       " 'output_max_file_size': 67108864,\n",
       " 'offline_sampling': False,\n",
       " 'evaluation_interval': None,\n",
       " 'evaluation_duration': 10,\n",
       " 'evaluation_duration_unit': 'episodes',\n",
       " 'evaluation_sample_timeout_s': 180.0,\n",
       " 'evaluation_parallel_to_training': False,\n",
       " 'evaluation_config': None,\n",
       " 'off_policy_estimation_methods': {},\n",
       " 'ope_split_batch_by_episode': True,\n",
       " 'evaluation_num_workers': 0,\n",
       " 'always_attach_evaluation_results': False,\n",
       " 'enable_async_evaluation': False,\n",
       " 'in_evaluation': False,\n",
       " 'sync_filters_on_rollout_workers_timeout_s': 60.0,\n",
       " 'keep_per_episode_custom_metrics': False,\n",
       " 'metrics_episode_collection_timeout_s': 60.0,\n",
       " 'metrics_num_episodes_for_smoothing': 100,\n",
       " 'min_time_s_per_iteration': None,\n",
       " 'min_train_timesteps_per_iteration': 0,\n",
       " 'min_sample_timesteps_per_iteration': 0,\n",
       " 'export_native_model_files': False,\n",
       " 'checkpoint_trainable_policies_only': False,\n",
       " 'logger_creator': None,\n",
       " 'logger_config': None,\n",
       " 'log_level': 'WARN',\n",
       " 'log_sys_usage': True,\n",
       " 'fake_sampler': False,\n",
       " 'seed': 19,\n",
       " 'worker_cls': None,\n",
       " 'rl_module_class': None,\n",
       " '_enable_rl_module_api': False,\n",
       " '_tf_policy_handles_more_than_one_loss': False,\n",
       " '_disable_preprocessor_api': False,\n",
       " '_disable_action_flattening': False,\n",
       " '_disable_execution_plan_api': True,\n",
       " 'simple_optimizer': -1,\n",
       " 'replay_sequence_length': None,\n",
       " 'horizon': -1,\n",
       " 'soft_horizon': -1,\n",
       " 'no_done_at_end': -1,\n",
       " 'lr_schedule': None,\n",
       " 'use_critic': True,\n",
       " 'use_gae': True,\n",
       " 'kl_coeff': 0.2,\n",
       " 'sgd_minibatch_size': 256,\n",
       " 'num_sgd_iter': 16,\n",
       " 'shuffle_sequences': True,\n",
       " 'vf_loss_coeff': 1.0,\n",
       " 'entropy_coeff': 0.0,\n",
       " 'entropy_coeff_schedule': None,\n",
       " 'clip_param': 0.3,\n",
       " 'vf_clip_param': 10.0,\n",
       " 'grad_clip': None,\n",
       " 'kl_target': 0.01,\n",
       " 'vf_share_layers': -1,\n",
       " 'lambda': 1.0,\n",
       " 'input': 'sampler',\n",
       " 'multiagent': {'policies': {'default_policy': (None, None, None, None)},\n",
       "  'policy_mapping_fn': <function ray.rllib.algorithms.algorithm_config.AlgorithmConfig.__init__.<locals>.<lambda>(aid, episode, worker, **kwargs)>,\n",
       "  'policies_to_train': None,\n",
       "  'policy_map_capacity': 100,\n",
       "  'policy_map_cache': -1,\n",
       "  'count_steps_by': 'env_steps',\n",
       "  'observation_fn': None},\n",
       " 'callbacks': ray.rllib.algorithms.callbacks.DefaultCallbacks,\n",
       " 'create_env_on_driver': False,\n",
       " 'custom_eval_function': None,\n",
       " 'framework': 'tf',\n",
       " 'num_cpus_for_driver': 1,\n",
       " 'num_workers': 8}"
      ]
     },
     "execution_count": 5,
     "metadata": {},
     "output_type": "execute_result"
    }
   ],
   "source": [
    "config.to_dict()"
   ]
  },
  {
   "cell_type": "code",
   "execution_count": null,
   "metadata": {},
   "outputs": [],
   "source": []
  },
  {
   "cell_type": "code",
   "execution_count": 6,
   "metadata": {},
   "outputs": [
    {
     "data": {
      "text/plain": [
       "'/home/abdul/ray_results/PPO_hanoi_tower_2023-03-14_15-40-16nury8a66/checkpoint_000050'"
      ]
     },
     "execution_count": 6,
     "metadata": {},
     "output_type": "execute_result"
    }
   ],
   "source": [
    "for _ in range(50):\n",
    "    res = agent.train()\n",
    "agent.save()"
   ]
  },
  {
   "cell_type": "code",
   "execution_count": null,
   "metadata": {},
   "outputs": [],
   "source": []
  },
  {
   "cell_type": "code",
   "execution_count": null,
   "metadata": {},
   "outputs": [],
   "source": []
  },
  {
   "cell_type": "code",
   "execution_count": 7,
   "metadata": {},
   "outputs": [
    {
     "name": "stdout",
     "output_type": "stream",
     "text": [
      "[[1 2 3 4]\n",
      " [0 0 0 0]\n",
      " [0 0 0 0]] [0 1]\n",
      "[[0 2 3 4]\n",
      " [0 0 0 1]\n",
      " [0 0 0 0]] [0 2]\n",
      "[[0 0 3 4]\n",
      " [0 0 0 1]\n",
      " [0 0 0 2]] [1 2]\n",
      "[[0 0 3 4]\n",
      " [0 0 0 0]\n",
      " [0 0 1 2]] [0 1]\n",
      "[[0 0 0 4]\n",
      " [0 0 0 3]\n",
      " [0 0 1 2]] [2 0]\n",
      "[[0 0 1 4]\n",
      " [0 0 0 3]\n",
      " [0 0 0 2]] [2 1]\n",
      "[[0 0 1 4]\n",
      " [0 0 2 3]\n",
      " [0 0 0 0]] [0 1]\n",
      "[[0 0 0 4]\n",
      " [0 1 2 3]\n",
      " [0 0 0 0]] [0 2]\n",
      "[[0 0 0 0]\n",
      " [0 1 2 3]\n",
      " [0 0 0 4]] [1 2]\n",
      "[[0 0 0 0]\n",
      " [0 0 2 3]\n",
      " [0 0 1 4]] [1 0]\n",
      "[[0 0 0 2]\n",
      " [0 0 0 3]\n",
      " [0 0 1 4]] [2 0]\n",
      "[[0 0 1 2]\n",
      " [0 0 0 3]\n",
      " [0 0 0 4]] [1 2]\n",
      "[[0 0 1 2]\n",
      " [0 0 0 0]\n",
      " [0 0 3 4]] [0 1]\n",
      "[[0 0 0 2]\n",
      " [0 0 0 1]\n",
      " [0 0 3 4]] [0 2]\n",
      "[[0 0 0 0]\n",
      " [0 0 0 1]\n",
      " [0 2 3 4]] [1 0]\n",
      "[[0 0 0 1]\n",
      " [0 0 0 0]\n",
      " [0 2 3 4]] [0 2]\n"
     ]
    }
   ],
   "source": [
    "env = create_env(env_config)\n",
    "obs, _ = env.reset()\n",
    "\n",
    "episode_reward = 0\n",
    "done = False\n",
    "while not done:\n",
    "    action = agent.compute_single_action(obs, explore=False)\n",
    "    print(obs, action)\n",
    "    obs, reward, done, terminated, info = env.step(action)\n",
    "    episode_reward += reward\n"
   ]
  },
  {
   "cell_type": "code",
   "execution_count": 8,
   "metadata": {},
   "outputs": [
    {
     "data": {
      "text/plain": [
       "(array([[0, 0, 0, 0],\n",
       "        [0, 0, 0, 0],\n",
       "        [1, 2, 3, 4]], dtype=int32),\n",
       " -16.0)"
      ]
     },
     "execution_count": 8,
     "metadata": {},
     "output_type": "execute_result"
    }
   ],
   "source": [
    "obs, episode_reward"
   ]
  },
  {
   "cell_type": "code",
   "execution_count": null,
   "metadata": {},
   "outputs": [],
   "source": []
  },
  {
   "cell_type": "code",
   "execution_count": null,
   "metadata": {},
   "outputs": [],
   "source": []
  },
  {
   "cell_type": "code",
   "execution_count": null,
   "metadata": {},
   "outputs": [],
   "source": []
  },
  {
   "cell_type": "code",
   "execution_count": 16,
   "metadata": {},
   "outputs": [
    {
     "data": {
      "text/plain": [
       "<ray.rllib.models.tf.complex_input_net.ComplexInputNetwork at 0x7f6d18aa3d90>"
      ]
     },
     "execution_count": 16,
     "metadata": {},
     "output_type": "execute_result"
    }
   ],
   "source": [
    "policy = agent.get_policy()\n",
    "model = policy.model\n",
    "model"
   ]
  },
  {
   "cell_type": "code",
   "execution_count": 21,
   "metadata": {},
   "outputs": [
    {
     "name": "stdout",
     "output_type": "stream",
     "text": [
      "Model: \"model\"\n",
      "__________________________________________________________________________________________________\n",
      " Layer (type)                   Output Shape         Param #     Connected to                     \n",
      "==================================================================================================\n",
      " observations (InputLayer)      [(None, 9)]          0           []                               \n",
      "                                                                                                  \n",
      " fc_value_1 (Dense)             (None, 256)          2560        ['observations[0][0]']           \n",
      "                                                                                                  \n",
      " fc_1 (Dense)                   (None, 256)          2560        ['observations[0][0]']           \n",
      "                                                                                                  \n",
      " fc_value_2 (Dense)             (None, 256)          65792       ['fc_value_1[0][0]']             \n",
      "                                                                                                  \n",
      " fc_2 (Dense)                   (None, 256)          65792       ['fc_1[0][0]']                   \n",
      "                                                                                                  \n",
      " value_out (Dense)              (None, 1)            257         ['fc_value_2[0][0]']             \n",
      "                                                                                                  \n",
      "==================================================================================================\n",
      "Total params: 136,961\n",
      "Trainable params: 136,961\n",
      "Non-trainable params: 0\n",
      "__________________________________________________________________________________________________\n"
     ]
    }
   ],
   "source": [
    "model.flatten[0].base_model.summary()"
   ]
  },
  {
   "cell_type": "code",
   "execution_count": 28,
   "metadata": {},
   "outputs": [
    {
     "name": "stdout",
     "output_type": "stream",
     "text": [
      "Model: \"model_2\"\n",
      "__________________________________________________________________________________________________\n",
      " Layer (type)                   Output Shape         Param #     Connected to                     \n",
      "==================================================================================================\n",
      " input_1 (InputLayer)           [(None, 256)]        0           []                               \n",
      "                                                                                                  \n",
      " logits (Dense)                 (None, 6)            1542        ['input_1[0][0]']                \n",
      "                                                                                                  \n",
      " value_out (Dense)              (None, 1)            257         ['input_1[0][0]']                \n",
      "                                                                                                  \n",
      "==================================================================================================\n",
      "Total params: 1,799\n",
      "Trainable params: 1,799\n",
      "Non-trainable params: 0\n",
      "__________________________________________________________________________________________________\n"
     ]
    }
   ],
   "source": [
    "model.logits_and_value_model.summary()"
   ]
  },
  {
   "cell_type": "code",
   "execution_count": null,
   "metadata": {},
   "outputs": [],
   "source": []
  },
  {
   "cell_type": "code",
   "execution_count": null,
   "metadata": {},
   "outputs": [],
   "source": []
  },
  {
   "cell_type": "code",
   "execution_count": null,
   "metadata": {},
   "outputs": [],
   "source": []
  },
  {
   "cell_type": "code",
   "execution_count": 9,
   "metadata": {},
   "outputs": [
    {
     "name": "stdout",
     "output_type": "stream",
     "text": [
      "Model: \"from_model\"\n",
      "_________________________________________________________________\n",
      " Layer (type)                Output Shape              Param #   \n",
      "=================================================================\n",
      " ctx_input (InputLayer)      [(None, 32)]              0         \n",
      "                                                                 \n",
      " from_logits (Dense)         (None, 3)                 99        \n",
      "                                                                 \n",
      "=================================================================\n",
      "Total params: 99\n",
      "Trainable params: 99\n",
      "Non-trainable params: 0\n",
      "_________________________________________________________________\n"
     ]
    }
   ],
   "source": [
    "model.model.from_model.summary()"
   ]
  },
  {
   "cell_type": "code",
   "execution_count": 10,
   "metadata": {},
   "outputs": [
    {
     "name": "stdout",
     "output_type": "stream",
     "text": [
      "Model: \"to_model\"\n",
      "__________________________________________________________________________________________________\n",
      " Layer (type)                   Output Shape         Param #     Connected to                     \n",
      "==================================================================================================\n",
      " from_input (InputLayer)        [(None, 3)]          0           []                               \n",
      "                                                                                                  \n",
      " ctx_input (InputLayer)         [(None, 32)]         0           []                               \n",
      "                                                                                                  \n",
      " from_embedding (Dense)         (None, 32)           128         ['from_input[0][0]']             \n",
      "                                                                                                  \n",
      " concatenate (Concatenate)      (None, 64)           0           ['ctx_input[0][0]',              \n",
      "                                                                  'from_embedding[0][0]']         \n",
      "                                                                                                  \n",
      " to_logits (Dense)              (None, 3)            195         ['concatenate[0][0]']            \n",
      "                                                                                                  \n",
      "==================================================================================================\n",
      "Total params: 323\n",
      "Trainable params: 323\n",
      "Non-trainable params: 0\n",
      "__________________________________________________________________________________________________\n"
     ]
    }
   ],
   "source": [
    "model.model.to_model.summary()"
   ]
  },
  {
   "cell_type": "code",
   "execution_count": null,
   "metadata": {},
   "outputs": [],
   "source": []
  },
  {
   "cell_type": "code",
   "execution_count": null,
   "metadata": {},
   "outputs": [],
   "source": []
  },
  {
   "cell_type": "code",
   "execution_count": null,
   "metadata": {},
   "outputs": [
    {
     "data": {
      "text/plain": [
       "-7.0"
      ]
     },
     "execution_count": 12,
     "metadata": {},
     "output_type": "execute_result"
    }
   ],
   "source": []
  },
  {
   "cell_type": "code",
   "execution_count": null,
   "metadata": {},
   "outputs": [],
   "source": []
  },
  {
   "cell_type": "code",
   "execution_count": null,
   "metadata": {},
   "outputs": [],
   "source": []
  },
  {
   "cell_type": "code",
   "execution_count": null,
   "metadata": {},
   "outputs": [],
   "source": [
    "env = HanoiTower(config=env_config)"
   ]
  },
  {
   "cell_type": "code",
   "execution_count": null,
   "metadata": {},
   "outputs": [
    {
     "data": {
      "text/plain": [
       "array([2, 1])"
      ]
     },
     "execution_count": 6,
     "metadata": {},
     "output_type": "execute_result"
    }
   ],
   "source": [
    "env.action_space.sample()"
   ]
  },
  {
   "cell_type": "code",
   "execution_count": null,
   "metadata": {},
   "outputs": [],
   "source": [
    "obs = env.reset()\n",
    "env.observation_space.contains(obs)"
   ]
  },
  {
   "cell_type": "code",
   "execution_count": null,
   "metadata": {},
   "outputs": [],
   "source": [
    "obs"
   ]
  },
  {
   "cell_type": "code",
   "execution_count": null,
   "metadata": {},
   "outputs": [],
   "source": [
    "env.step([0, 1])"
   ]
  },
  {
   "cell_type": "code",
   "execution_count": null,
   "metadata": {},
   "outputs": [],
   "source": []
  },
  {
   "cell_type": "code",
   "execution_count": null,
   "metadata": {},
   "outputs": [],
   "source": []
  }
 ],
 "metadata": {
  "kernelspec": {
   "display_name": "hanoi_tower",
   "language": "python",
   "name": "python3"
  },
  "language_info": {
   "codemirror_mode": {
    "name": "ipython",
    "version": 3
   },
   "file_extension": ".py",
   "mimetype": "text/x-python",
   "name": "python",
   "nbconvert_exporter": "python",
   "pygments_lexer": "ipython3",
   "version": "3.10.9"
  },
  "orig_nbformat": 4
 },
 "nbformat": 4,
 "nbformat_minor": 2
}
