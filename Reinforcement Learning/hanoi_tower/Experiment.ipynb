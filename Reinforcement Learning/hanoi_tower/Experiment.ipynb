{
 "cells": [
  {
   "cell_type": "code",
   "execution_count": 2,
   "metadata": {},
   "outputs": [],
   "source": [
    "from env import *\n",
    "\n",
    "import tensorflow as tf\n",
    "from ray.rllib.algorithms import dqn, ppo"
   ]
  },
  {
   "cell_type": "code",
   "execution_count": 3,
   "metadata": {},
   "outputs": [
    {
     "name": "stdout",
     "output_type": "stream",
     "text": [
      "WARNING:tensorflow:From /var/folders/dn/w4zvyvvs1gl1zhr1dmd_92th0000gn/T/ipykernel_19695/1290334419.py:4: is_gpu_available (from tensorflow.python.framework.test_util) is deprecated and will be removed in a future version.\n",
      "Instructions for updating:\n",
      "Use `tf.config.list_physical_devices('GPU')` instead.\n",
      "Metal device set to: Apple M1\n"
     ]
    },
    {
     "data": {
      "text/plain": [
       "True"
      ]
     },
     "execution_count": 3,
     "metadata": {},
     "output_type": "execute_result"
    },
    {
     "name": "stdout",
     "output_type": "stream",
     "text": [
      "\n",
      "systemMemory: 16.00 GB\n",
      "maxCacheSize: 5.33 GB\n",
      "\n"
     ]
    }
   ],
   "source": [
    "%load_ext autoreload\n",
    "%autoreload 2\n",
    "\n",
    "tf.test.is_gpu_available()"
   ]
  },
  {
   "cell_type": "code",
   "execution_count": 4,
   "metadata": {},
   "outputs": [
    {
     "name": "stderr",
     "output_type": "stream",
     "text": [
      "2023-03-11 16:10:00,516\tINFO worker.py:1553 -- Started a local Ray instance.\n"
     ]
    },
    {
     "name": "stdout",
     "output_type": "stream",
     "text": [
      "\u001b[2m\u001b[36m(RolloutWorker pid=19733)\u001b[0m Metal device set to: Apple M1\n",
      "\u001b[2m\u001b[36m(RolloutWorker pid=19733)\u001b[0m \n",
      "\u001b[2m\u001b[36m(RolloutWorker pid=19733)\u001b[0m systemMemory: 16.00 GB\n",
      "\u001b[2m\u001b[36m(RolloutWorker pid=19733)\u001b[0m maxCacheSize: 5.33 GB\n",
      "\u001b[2m\u001b[36m(RolloutWorker pid=19733)\u001b[0m \n",
      "\u001b[2m\u001b[36m(RolloutWorker pid=19735)\u001b[0m Metal device set to: Apple M1\n",
      "\u001b[2m\u001b[36m(RolloutWorker pid=19735)\u001b[0m \n",
      "\u001b[2m\u001b[36m(RolloutWorker pid=19735)\u001b[0m systemMemory: 16.00 GB\n",
      "\u001b[2m\u001b[36m(RolloutWorker pid=19735)\u001b[0m maxCacheSize: 5.33 GB\n",
      "\u001b[2m\u001b[36m(RolloutWorker pid=19735)\u001b[0m \n",
      "\u001b[2m\u001b[36m(RolloutWorker pid=19734)\u001b[0m Metal device set to: Apple M1\n",
      "\u001b[2m\u001b[36m(RolloutWorker pid=19734)\u001b[0m \n",
      "\u001b[2m\u001b[36m(RolloutWorker pid=19734)\u001b[0m systemMemory: 16.00 GB\n",
      "\u001b[2m\u001b[36m(RolloutWorker pid=19734)\u001b[0m maxCacheSize: 5.33 GB\n",
      "\u001b[2m\u001b[36m(RolloutWorker pid=19734)\u001b[0m \n"
     ]
    },
    {
     "name": "stderr",
     "output_type": "stream",
     "text": [
      "\u001b[2m\u001b[36m(RolloutWorker pid=19733)\u001b[0m 2023-03-11 16:10:04,698\tWARNING utils.py:161 -- `config.auto_wrap_old_gym_envs` is activated AND you seem to have provided an old gym-API environment. RLlib will therefore try to auto-fix the following error. However, please consider switching over to the new `gymnasium` APIs:\n",
      "\u001b[2m\u001b[36m(RolloutWorker pid=19733)\u001b[0m Your environment ({}) does not abide to the new gymnasium-style API!\n",
      "\u001b[2m\u001b[36m(RolloutWorker pid=19733)\u001b[0m From Ray 2.3 on, RLlib only supports the new (gym>=0.26 or gymnasium) Env APIs.\n",
      "\u001b[2m\u001b[36m(RolloutWorker pid=19733)\u001b[0m {}\n",
      "\u001b[2m\u001b[36m(RolloutWorker pid=19733)\u001b[0m Learn more about the most important changes here:\n",
      "\u001b[2m\u001b[36m(RolloutWorker pid=19733)\u001b[0m https://github.com/openai/gym and here: https://github.com/Farama-Foundation/Gymnasium\n",
      "\u001b[2m\u001b[36m(RolloutWorker pid=19733)\u001b[0m \n",
      "\u001b[2m\u001b[36m(RolloutWorker pid=19733)\u001b[0m In order to fix this problem, do the following:\n",
      "\u001b[2m\u001b[36m(RolloutWorker pid=19733)\u001b[0m \n",
      "\u001b[2m\u001b[36m(RolloutWorker pid=19733)\u001b[0m 1) Run `pip install gymnasium` on your command line.\n",
      "\u001b[2m\u001b[36m(RolloutWorker pid=19733)\u001b[0m 2) Change all your import statements in your code from\n",
      "\u001b[2m\u001b[36m(RolloutWorker pid=19733)\u001b[0m    `import gym` -> `import gymnasium as gym` OR\n",
      "\u001b[2m\u001b[36m(RolloutWorker pid=19733)\u001b[0m    `from gym.space import Discrete` -> `from gymnasium.spaces import Discrete`\n",
      "\u001b[2m\u001b[36m(RolloutWorker pid=19733)\u001b[0m \n",
      "\u001b[2m\u001b[36m(RolloutWorker pid=19733)\u001b[0m For your custom (single agent) gym.Env classes:\n",
      "\u001b[2m\u001b[36m(RolloutWorker pid=19733)\u001b[0m 3.1) Either wrap your old Env class via the provided `from gymnasium.wrappers import\n",
      "\u001b[2m\u001b[36m(RolloutWorker pid=19733)\u001b[0m      EnvCompatibility` wrapper class.\n",
      "\u001b[2m\u001b[36m(RolloutWorker pid=19733)\u001b[0m 3.2) Alternatively to 3.1:\n",
      "\u001b[2m\u001b[36m(RolloutWorker pid=19733)\u001b[0m  - Change your `reset()` method to have the call signature 'def reset(self, *,\n",
      "\u001b[2m\u001b[36m(RolloutWorker pid=19733)\u001b[0m    seed=None, options=None)'\n",
      "\u001b[2m\u001b[36m(RolloutWorker pid=19733)\u001b[0m  - Return an additional info dict (empty dict should be fine) from your `reset()`\n",
      "\u001b[2m\u001b[36m(RolloutWorker pid=19733)\u001b[0m    method.\n",
      "\u001b[2m\u001b[36m(RolloutWorker pid=19733)\u001b[0m  - Return an additional `truncated` flag from your `step()` method (between `done` and\n",
      "\u001b[2m\u001b[36m(RolloutWorker pid=19733)\u001b[0m    `info`). This flag should indicate, whether the episode was terminated prematurely\n",
      "\u001b[2m\u001b[36m(RolloutWorker pid=19733)\u001b[0m    due to some time constraint or other kind of horizon setting.\n",
      "\u001b[2m\u001b[36m(RolloutWorker pid=19733)\u001b[0m \n",
      "\u001b[2m\u001b[36m(RolloutWorker pid=19733)\u001b[0m For your custom RLlib `MultiAgentEnv` classes:\n",
      "\u001b[2m\u001b[36m(RolloutWorker pid=19733)\u001b[0m 4.1) Either wrap your old MultiAgentEnv via the provided\n",
      "\u001b[2m\u001b[36m(RolloutWorker pid=19733)\u001b[0m      `from ray.rllib.env.wrappers.multi_agent_env_compatibility import\n",
      "\u001b[2m\u001b[36m(RolloutWorker pid=19733)\u001b[0m      MultiAgentEnvCompatibility` wrapper class.\n",
      "\u001b[2m\u001b[36m(RolloutWorker pid=19733)\u001b[0m 4.2) Alternatively to 4.1:\n",
      "\u001b[2m\u001b[36m(RolloutWorker pid=19733)\u001b[0m  - Change your `reset()` method to have the call signature\n",
      "\u001b[2m\u001b[36m(RolloutWorker pid=19733)\u001b[0m    'def reset(self, *, seed=None, options=None)'\n",
      "\u001b[2m\u001b[36m(RolloutWorker pid=19733)\u001b[0m  - Return an additional per-agent info dict (empty dict should be fine) from your\n",
      "\u001b[2m\u001b[36m(RolloutWorker pid=19733)\u001b[0m    `reset()` method.\n",
      "\u001b[2m\u001b[36m(RolloutWorker pid=19733)\u001b[0m  - Rename `dones` into `terminateds` and only set this to True, if the episode is really\n",
      "\u001b[2m\u001b[36m(RolloutWorker pid=19733)\u001b[0m    done (as opposed to has been terminated prematurely due to some horizon/time-limit\n",
      "\u001b[2m\u001b[36m(RolloutWorker pid=19733)\u001b[0m    setting).\n",
      "\u001b[2m\u001b[36m(RolloutWorker pid=19733)\u001b[0m  - Return an additional `truncateds` per-agent dictionary flag from your `step()`\n",
      "\u001b[2m\u001b[36m(RolloutWorker pid=19733)\u001b[0m    method, including the `__all__` key (100% analogous to your `dones/terminateds`\n",
      "\u001b[2m\u001b[36m(RolloutWorker pid=19733)\u001b[0m    per-agent dict).\n",
      "\u001b[2m\u001b[36m(RolloutWorker pid=19733)\u001b[0m    Return this new `truncateds` dict between `dones/terminateds` and `infos`. This\n",
      "\u001b[2m\u001b[36m(RolloutWorker pid=19733)\u001b[0m    flag should indicate, whether the episode (for some agent or all agents) was\n",
      "\u001b[2m\u001b[36m(RolloutWorker pid=19733)\u001b[0m    terminated prematurely due to some time constraint or other kind of horizon setting.\n",
      "\u001b[2m\u001b[36m(RolloutWorker pid=19733)\u001b[0m \n",
      "\u001b[2m\u001b[36m(RolloutWorker pid=19733)\u001b[0m /Users/abdulhakeemabdulrahman/miniforge3/envs/hanoi_tower/lib/python3.10/site-packages/gymnasium/wrappers/compatibility.py:67: UserWarning: \u001b[33mWARN: The `gymnasium.make(..., apply_api_compatibility=...)` parameter is deprecated and will be removed in v0.28. Instead use `gym.make('GymV22Environment-v0', env_name=...)` or `from shimmy import GymV22CompatibilityV0`\u001b[0m\n",
      "\u001b[2m\u001b[36m(RolloutWorker pid=19733)\u001b[0m   logger.warn(\n",
      "\u001b[2m\u001b[36m(RolloutWorker pid=19733)\u001b[0m 2023-03-11 16:10:04,699\tWARNING env.py:156 -- Your env doesn't have a .spec.max_episode_steps attribute. Your horizon will default to infinity, and your environment will not be reset.\n",
      "\u001b[2m\u001b[36m(RolloutWorker pid=19733)\u001b[0m 2023-03-11 16:10:04,699\tWARNING env.py:166 -- Your env reset() method appears to take 'seed' or 'return_info' arguments. Note that these are not yet supported in RLlib. Seeding will take place using 'env.seed()' and the info dict will not be returned from reset.\n",
      "\u001b[2m\u001b[36m(RolloutWorker pid=19735)\u001b[0m /Users/abdulhakeemabdulrahman/miniforge3/envs/hanoi_tower/lib/python3.10/site-packages/gymnasium/wrappers/compatibility.py:67: UserWarning: \u001b[33mWARN: The `gymnasium.make(..., apply_api_compatibility=...)` parameter is deprecated and will be removed in v0.28. Instead use `gym.make('GymV22Environment-v0', env_name=...)` or `from shimmy import GymV22CompatibilityV0`\u001b[0m\n",
      "\u001b[2m\u001b[36m(RolloutWorker pid=19735)\u001b[0m   logger.warn(\n",
      "\u001b[2m\u001b[36m(RolloutWorker pid=19734)\u001b[0m /Users/abdulhakeemabdulrahman/miniforge3/envs/hanoi_tower/lib/python3.10/site-packages/gymnasium/wrappers/compatibility.py:67: UserWarning: \u001b[33mWARN: The `gymnasium.make(..., apply_api_compatibility=...)` parameter is deprecated and will be removed in v0.28. Instead use `gym.make('GymV22Environment-v0', env_name=...)` or `from shimmy import GymV22CompatibilityV0`\u001b[0m\n",
      "\u001b[2m\u001b[36m(RolloutWorker pid=19734)\u001b[0m   logger.warn(\n",
      "\u001b[2m\u001b[36m(RolloutWorker pid=19733)\u001b[0m /Users/abdulhakeemabdulrahman/miniforge3/envs/hanoi_tower/lib/python3.10/site-packages/gymnasium/spaces/multi_discrete.py:177: UserWarning: \u001b[33mWARN: Getting the length of a multi-dimensional MultiDiscrete space.\u001b[0m\n",
      "\u001b[2m\u001b[36m(RolloutWorker pid=19733)\u001b[0m   gym.logger.warn(\n",
      "\u001b[2m\u001b[36m(RolloutWorker pid=19735)\u001b[0m /Users/abdulhakeemabdulrahman/miniforge3/envs/hanoi_tower/lib/python3.10/site-packages/gymnasium/spaces/multi_discrete.py:177: UserWarning: \u001b[33mWARN: Getting the length of a multi-dimensional MultiDiscrete space.\u001b[0m\n",
      "\u001b[2m\u001b[36m(RolloutWorker pid=19735)\u001b[0m   gym.logger.warn(\n",
      "\u001b[2m\u001b[36m(RolloutWorker pid=19734)\u001b[0m /Users/abdulhakeemabdulrahman/miniforge3/envs/hanoi_tower/lib/python3.10/site-packages/gymnasium/spaces/multi_discrete.py:177: UserWarning: \u001b[33mWARN: Getting the length of a multi-dimensional MultiDiscrete space.\u001b[0m\n",
      "\u001b[2m\u001b[36m(RolloutWorker pid=19734)\u001b[0m   gym.logger.warn(\n",
      "2023-03-11 16:10:05,894\tWARNING util.py:67 -- Install gputil for GPU system monitoring.\n"
     ]
    }
   ],
   "source": [
    "n_disks = 5\n",
    "env_config = {\n",
    "    'n_disks': n_disks,\n",
    "    'max_n_steps': 2 * (2 ** n_disks)\n",
    "}\n",
    "\n",
    "config = ppo.PPOConfig()\n",
    "config = config.rollouts(num_rollout_workers=3)\n",
    "config = config.framework('tf')\n",
    "\n",
    "config = config.environment(HanoiTower, env_config=env_config)\n",
    "agent = config.build()\n",
    "agent.train()"
   ]
  },
  {
   "cell_type": "code",
   "execution_count": null,
   "metadata": {},
   "outputs": [],
   "source": []
  },
  {
   "cell_type": "code",
   "execution_count": null,
   "metadata": {},
   "outputs": [],
   "source": [
    "env = HanoiTower(config={'n_disks': 5})"
   ]
  },
  {
   "cell_type": "code",
   "execution_count": null,
   "metadata": {},
   "outputs": [
    {
     "data": {
      "text/plain": [
       "array([1, 0])"
      ]
     },
     "execution_count": 5,
     "metadata": {},
     "output_type": "execute_result"
    }
   ],
   "source": [
    "env.action_space.sample()"
   ]
  },
  {
   "cell_type": "code",
   "execution_count": 6,
   "metadata": {},
   "outputs": [
    {
     "data": {
      "text/plain": [
       "True"
      ]
     },
     "execution_count": 6,
     "metadata": {},
     "output_type": "execute_result"
    }
   ],
   "source": [
    "obs = env.reset()\n",
    "env.observation_space.contains(obs)"
   ]
  },
  {
   "cell_type": "code",
   "execution_count": 7,
   "metadata": {},
   "outputs": [
    {
     "data": {
      "text/plain": [
       "array([[1, 2, 3, 4, 5],\n",
       "       [0, 0, 0, 0, 0],\n",
       "       [0, 0, 0, 0, 0]], dtype=int32)"
      ]
     },
     "execution_count": 7,
     "metadata": {},
     "output_type": "execute_result"
    }
   ],
   "source": [
    "obs"
   ]
  },
  {
   "cell_type": "code",
   "execution_count": 8,
   "metadata": {},
   "outputs": [
    {
     "name": "stdout",
     "output_type": "stream",
     "text": [
      "64\n"
     ]
    },
    {
     "data": {
      "text/plain": [
       "(array([[0, 2, 3, 4, 5],\n",
       "        [0, 0, 0, 0, 1],\n",
       "        [0, 0, 0, 0, 0]], dtype=int32),\n",
       " -1,\n",
       " False,\n",
       " {})"
      ]
     },
     "execution_count": 8,
     "metadata": {},
     "output_type": "execute_result"
    }
   ],
   "source": [
    "env.step([0, 1])"
   ]
  },
  {
   "cell_type": "code",
   "execution_count": null,
   "metadata": {},
   "outputs": [],
   "source": []
  },
  {
   "cell_type": "code",
   "execution_count": null,
   "metadata": {},
   "outputs": [],
   "source": []
  }
 ],
 "metadata": {
  "kernelspec": {
   "display_name": "hanoi_tower",
   "language": "python",
   "name": "python3"
  },
  "language_info": {
   "codemirror_mode": {
    "name": "ipython",
    "version": 3
   },
   "file_extension": ".py",
   "mimetype": "text/x-python",
   "name": "python",
   "nbconvert_exporter": "python",
   "pygments_lexer": "ipython3",
   "version": "3.10.9"
  },
  "orig_nbformat": 4
 },
 "nbformat": 4,
 "nbformat_minor": 2
}
