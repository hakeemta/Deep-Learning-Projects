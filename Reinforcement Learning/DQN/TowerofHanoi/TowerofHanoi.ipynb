{
 "cells": [
  {
   "cell_type": "code",
   "execution_count": 19,
   "metadata": {},
   "outputs": [],
   "source": [
    "import gymnasium as gym\n",
    "import numpy as np\n",
    "import itertools"
   ]
  },
  {
   "cell_type": "code",
   "execution_count": 4,
   "metadata": {},
   "outputs": [],
   "source": [
    "\n",
    "class TowerOfHanoiEnv(gym.Env):\n",
    "    def __init__(self,config) -> None:\n",
    "        super(TowerOfHanoiEnv).__init__()\n",
    "        self.num_towers=3\n",
    "        self.num_disks = config[\"num_disks\"]\n",
    "        self.action_space = gym.spaces.Discrete(6)\n",
    "        self.observation_space = gym.spaces.MultiDiscrete([[self.num_disks+1]*self.num_disks]*self.num_towers)\n",
    "        self.position =list(itertools.permutations(list(range(self.num_towers)), 2))\n",
    "    \n",
    "    def reset(self,seed=None, options=None):\n",
    "        \"\"\"Resets the state of the environment and returns an initial observation.\n",
    "        Returns: \n",
    "            observation (object): the initial observation of the space (in our case the initial state)\n",
    "            info (dict): contains auxiliary diagnostic information (helpful for debugging, and sometimes learning)\n",
    "        \"\"\"\n",
    "        self.state = np.vstack((np.arange(self.num_disks, dtype=int),    # Source Tower\n",
    "                                np.full(self.num_disks, 0),         # Helper Tower\n",
    "                                np.full(self.num_disks, 0)))        #Destination Tower\n",
    "        # Reverse the order of the disks in source tower\n",
    "        self.state[0, -self.num_disks:] = self.state[0, :self.num_disks][::-1]  \n",
    "        self.state[0, :] = self.state[0] +1\n",
    "        return self.state\n",
    "    \n",
    "    def step(self, action):\n",
    "        \"\"\"Run one time-step of the environment's dynamics. When end of\n",
    "        episode is reached, you are responsible for calling `reset()`\n",
    "        to reset this environment's state.\n",
    "\n",
    "        Args:\n",
    "            action: an action provided by the environment\n",
    "\n",
    "        Returns:\n",
    "            obs (object): agent's observation of the current environment\n",
    "            reward (int) : amount of reward returned after previous action\n",
    "            terminated (bool): whether the episode has ended\n",
    "            truncated (bool): whether the episode was truncated\n",
    "            info (dict): contains auxiliary diagnostic information (helpful for debugging, and sometimes learning)\n",
    "        \"\"\"\n",
    "        \n",
    "        action_idx = self.position[action]\n",
    "        from_tower, to_tower = action_idx[0], action_idx[1]\n",
    "        preprocessed_state = self.preprocess()\n",
    "        # Check the validity of the move\n",
    "        condition =  min(preprocessed_state[to_tower]) != np.inf  and min(preprocessed_state[from_tower]) > min(preprocessed_state[to_tower])                                                       \n",
    "        if condition or min(preprocessed_state[from_tower]) == min(preprocessed_state[to_tower]) :\n",
    "            # Invalid move\n",
    "            return self.state, 0, False, {}\n",
    "        \n",
    "        # Valid move\n",
    "        disk = min(preprocessed_state[from_tower])\n",
    "        disk_idx = np.argmin(preprocessed_state[from_tower])\n",
    "        to_idx = np.argmax(preprocessed_state[to_tower])\n",
    "        # Move disk to a new position\n",
    "        self.state[to_tower][to_idx] = disk\n",
    "        # np.inf is use to denote that a disk at a position is empty\n",
    "        # ToDo : np.inf is not an appropriate choice in this case\n",
    "        self.state[from_tower][disk_idx] = 0\n",
    "        \n",
    "        # Check if we are at the terminal state\n",
    "        # A reward of -1 is given for every valid move\n",
    "        if np.all(self.state[2] != 0):\n",
    "            return  self.state,-1, True,{}\n",
    "        \n",
    "        return self.state, -1, False, {}        \n",
    "        \n",
    "    def preprocess(self):\n",
    "        return np.where(self.state ==0, np.inf, self.state)            \n",
    "\n"
   ]
  },
  {
   "cell_type": "code",
   "execution_count": 12,
   "metadata": {},
   "outputs": [
    {
     "name": "stdout",
     "output_type": "stream",
     "text": [
      "[[0 0 0 0 0]\n",
      " [0 0 0 0 0]\n",
      " [5 4 3 2 1]]\n",
      "-3100\n"
     ]
    }
   ],
   "source": [
    "env = TowerOfHanoiEnv(config={\"num_disks\": 5})\n",
    "env.reset()\n",
    "done = False\n",
    "cummulative_reward =0\n",
    "while not done:\n",
    "    action = np.random.choice(range(6))\n",
    "    state, reward, done,_ = env.step(action)\n",
    "    cummulative_reward +=reward\n",
    "\n",
    "print(state)\n",
    "print(cummulative_reward)"
   ]
  },
  {
   "cell_type": "code",
   "execution_count": 17,
   "metadata": {},
   "outputs": [
    {
     "data": {
      "text/plain": [
       "(array([[5, 4, 3, 2, 1],\n",
       "        [0, 0, 0, 0, 0],\n",
       "        [0, 0, 0, 0, 0]]),\n",
       " 0,\n",
       " False,\n",
       " {})"
      ]
     },
     "execution_count": 17,
     "metadata": {},
     "output_type": "execute_result"
    }
   ],
   "source": [
    "env.reset()\n",
    "env.step(4)"
   ]
  },
  {
   "cell_type": "code",
   "execution_count": null,
   "metadata": {},
   "outputs": [],
   "source": [
    "env = TowerOfHanoiEnv(config={\"num_disks\": 5})\n",
    "print(env.reset())\n",
    "done = False\n",
    "cummulative_reward =0\n",
    "while not done:\n",
    "    action = np.random.choice(range(6))\n",
    "    state, reward, done,_ = env.step(action)\n",
    "    print(action,state,reward)\n",
    "    cummulative_reward +=reward\n",
    "\n",
    "\n",
    "print(cummulative_reward)"
   ]
  }
 ],
 "metadata": {
  "kernelspec": {
   "display_name": "tf",
   "language": "python",
   "name": "python3"
  },
  "language_info": {
   "codemirror_mode": {
    "name": "ipython",
    "version": 3
   },
   "file_extension": ".py",
   "mimetype": "text/x-python",
   "name": "python",
   "nbconvert_exporter": "python",
   "pygments_lexer": "ipython3",
   "version": "3.10.9"
  },
  "orig_nbformat": 4,
  "vscode": {
   "interpreter": {
    "hash": "22a2d9d2260537ac5d5344e0960edf424aea8acd2950750b938407e188415f8b"
   }
  }
 },
 "nbformat": 4,
 "nbformat_minor": 2
}
