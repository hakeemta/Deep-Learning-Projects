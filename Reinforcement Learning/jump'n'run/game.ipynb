{
 "cells": [
  {
   "cell_type": "code",
   "execution_count": 1,
   "metadata": {},
   "outputs": [],
   "source": [
    "from environment import GameEnv\n",
    "import numpy as np"
   ]
  },
  {
   "cell_type": "code",
   "execution_count": 2,
   "metadata": {},
   "outputs": [],
   "source": [
    "def monte_carlo_sampler(env, policy, n_samples,seed=123):\n",
    "    \"\"\"Implements a Monte Carlo Sampler which\n",
    "    uses the provided policy in the environment to sample trajectories\n",
    "    \n",
    "    Args:\n",
    "        env (gym.Env): gym environment\n",
    "        policy (function): function that takes a state as input and returns an action\n",
    "        n_samples (int): number of trajectories to sample\n",
    "\n",
    "    Returns:\n",
    "        trajectories (list): trajectories represented by state sequences\n",
    "        rewards (list): respective rewards of the trajectories\n",
    "    \n",
    "    \"\"\"\n",
    "    \n",
    "    rewards = []\n",
    "    trajectories = []\n",
    "    \n",
    "    for i in range(n_samples):\n",
    "        state,_ = env.reset(seed=seed)\n",
    "        episode_trajectories = [0,]\n",
    "        episode_rewards = []\n",
    "        done = False\n",
    "        while not done:\n",
    "            if callable(policy):\n",
    "                action = policy(state)\n",
    "            else:\n",
    "                action = policy.policy(state)\n",
    "            state, reward, done = env.step(action)\n",
    "            episode_rewards.append(reward)\n",
    "            episode_trajectories.append(state)\n",
    "        rewards.append(episode_rewards)\n",
    "        trajectories.append(episode_trajectories)\n",
    "\n",
    "\n",
    "    return trajectories, rewards"
   ]
  },
  {
   "cell_type": "code",
   "execution_count": 3,
   "metadata": {},
   "outputs": [],
   "source": [
    "# Actions ={ Jump: 0, Walk:1 }\n",
    "\n",
    "# π1: {always jump}\n",
    "def policy_one(state):\n",
    "    return 0\n",
    "\n",
    "\n",
    "# π2: {first walk, then always jump}\n",
    "class PolicyTWo:\n",
    "    def __init__(self,counter=0):\n",
    "        self.counter = counter\n",
    "    def policy(self,state):\n",
    "        self.counter += 1\n",
    "        if self.counter == 1:\n",
    "            return 1\n",
    "        else:\n",
    "            return 0\n"
   ]
  },
  {
   "cell_type": "code",
   "execution_count": 4,
   "metadata": {},
   "outputs": [],
   "source": [
    "# Define environments inputs as given in PoC_exercise_09.pdf\n",
    "transitions = np.array([[[0.2, 0.8, 0. , 0. , 0. ],\n",
    "                        [0. , 0. , 0.5, 0.5, 0. ],\n",
    "                        [0. , 0. , 0.6, 0.4, 0. ],\n",
    "                        [0. , 0. , 0.2, 0.2, 0.6],\n",
    "                        [0. , 0. , 0. , 0. , 1. ]],\n",
    "\n",
    "                        [[0. , 0. , 1. , 0. , 0. ],\n",
    "                        [0. , 0. , 0.8, 0.2, 0. ],\n",
    "                        [0. , 0. , 0.9, 0.1, 0. ],\n",
    "                        [0. , 0. , 0.4, 0.4, 0.2],\n",
    "                        [0. , 0. , 0. , 0. , 1. ]]])\n",
    "\n",
    "\n",
    "\n",
    "\n",
    "rewards = np.array([[-2,  0],\n",
    "                    [-1, -1],\n",
    "                    [-2,  0],\n",
    "                    [-1, -1],\n",
    "                    [ 0,  0]])"
   ]
  },
  {
   "cell_type": "code",
   "execution_count": 5,
   "metadata": {},
   "outputs": [],
   "source": [
    "# Create environment\n",
    "env = GameEnv(transitions, rewards) "
   ]
  },
  {
   "cell_type": "code",
   "execution_count": 6,
   "metadata": {},
   "outputs": [
    {
     "data": {
      "text/plain": [
       "([[0, 1, 2, 3, 4], [0, 1, 3, 4], [0, 1, 2, 2, 3, 2, 3, 4]],\n",
       " [[-2, -1, -2, -1], [-2, -1, -1], [-2, -1, -2, -2, -1, -2, -1]])"
      ]
     },
     "execution_count": 6,
     "metadata": {},
     "output_type": "execute_result"
    }
   ],
   "source": [
    "# Sample for always jump policy\n",
    "monte_carlo_sampler(env, policy=policy_one, n_samples=3,seed=123)\n",
    "\n"
   ]
  },
  {
   "cell_type": "code",
   "execution_count": 7,
   "metadata": {},
   "outputs": [
    {
     "data": {
      "text/plain": [
       "([[0, 2, 2, 2, 3, 4], [0, 1, 2, 2, 2, 2, 2, 2, 3, 4], [0, 1, 3, 4]],\n",
       " [[0, -2, -2, -2, -1], [-2, -1, -2, -2, -2, -2, -2, -2, -1], [-2, -1, -1]])"
      ]
     },
     "execution_count": 7,
     "metadata": {},
     "output_type": "execute_result"
    }
   ],
   "source": [
    "# Sample for first walk then always jump policy\n",
    "policy_two= PolicyTWo(counter=0)\n",
    "monte_carlo_sampler(env, policy=policy_two, n_samples=3, seed=123)\n"
   ]
  }
 ],
 "metadata": {
  "kernelspec": {
   "display_name": "base",
   "language": "python",
   "name": "python3"
  },
  "language_info": {
   "codemirror_mode": {
    "name": "ipython",
    "version": 3
   },
   "file_extension": ".py",
   "mimetype": "text/x-python",
   "name": "python",
   "nbconvert_exporter": "python",
   "pygments_lexer": "ipython3",
   "version": "3.9.13"
  },
  "orig_nbformat": 4,
  "vscode": {
   "interpreter": {
    "hash": "1387d92700c54d4d514431281ecc2b3231d92b1ea15940f3ea3e2964d72c4e65"
   }
  }
 },
 "nbformat": 4,
 "nbformat_minor": 2
}
