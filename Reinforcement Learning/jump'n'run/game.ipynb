{
 "cells": [
  {
   "cell_type": "code",
   "execution_count": null,
   "metadata": {},
   "outputs": [],
   "source": [
    "from environment import GameEnv\n",
    "import numpy as np"
   ]
  },
  {
   "cell_type": "code",
   "execution_count": null,
   "metadata": {},
   "outputs": [],
   "source": [
    "def monte_carlo_sampler(env, policy, n_samples,seed=123):\n",
    "    \"\"\"Implements a Monte Carlo Sampler which\n",
    "    uses the provided policy in the environment to sample trajectories\n",
    "    \n",
    "    Args:\n",
    "        env (gym.Env): gym environment\n",
    "        policy (function): function that takes a state as input and returns an action\n",
    "        n_samples (int): number of trajectories to sample\n",
    "\n",
    "    Returns:\n",
    "        trajectories (list): trajectories represented by state sequences\n",
    "        rewards (list): respective rewards of the trajectories\n",
    "    \n",
    "    \"\"\"\n",
    "    # implement sampling functionality here...\n",
    "    rewards = []\n",
    "    trajectories = []\n",
    "    done = True\n",
    "    \n",
    "    while n_samples:\n",
    "        state = env.reset(seed=seed)\n",
    "        episode_trajectories = []\n",
    "        episode_rewards = []\n",
    "        while not done:\n",
    "            if callable(policy):\n",
    "                action = policy(state)\n",
    "            else:\n",
    "                action = policy.policy(state)\n",
    "            state, reward, done = env.step(action)\n",
    "            episode_rewards.append(reward)\n",
    "            episode_trajectories.append(state)\n",
    "        reward.append(episode_rewards)\n",
    "        trajectories.append(episode_trajectories)\n",
    "        n_samples -=1\n",
    "\n",
    "    return trajectories, rewards"
   ]
  }
 ],
 "metadata": {
  "kernelspec": {
   "display_name": "base",
   "language": "python",
   "name": "python3"
  },
  "language_info": {
   "name": "python",
   "version": "3.9.13 (main, Aug 25 2022, 18:29:29) \n[Clang 12.0.0 ]"
  },
  "orig_nbformat": 4,
  "vscode": {
   "interpreter": {
    "hash": "1387d92700c54d4d514431281ecc2b3231d92b1ea15940f3ea3e2964d72c4e65"
   }
  }
 },
 "nbformat": 4,
 "nbformat_minor": 2
}
